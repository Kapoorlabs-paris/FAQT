{
 "cells": [
  {
   "cell_type": "code",
   "execution_count": 1,
   "metadata": {
    "colab": {
     "base_uri": "https://localhost:8080/"
    },
    "id": "rBQjHcnc2zBc",
    "outputId": "04bd88a0-9cb9-4727-c3f1-329db6019055"
   },
   "outputs": [
    {
     "name": "stderr",
     "output_type": "stream",
     "text": [
      "Using TensorFlow backend.\n"
     ]
    }
   ],
   "source": [
    "import sys\n",
    "import os\n",
    "from csbdeep.utils import Path, normalize\n",
    "import numpy as np\n",
    "import matplotlib.pyplot as plt\n",
    "import glob\n",
    "import numpy as np\n",
    "from tifffile import imread, imwrite\n",
    "from Utils.helpers import WingArea, multiplot, doubleplot\n",
    "from skimage.morphology import remove_small_objects\n",
    "from csbdeep.utils import Path, normalize\n",
    "from csbdeep.models import Config, CARE\n",
    "from skimage.filters import threshold_local, threshold_mean, threshold_otsu\n",
    "from scipy.ndimage.morphology import binary_fill_holes\n",
    "import pandas as pd\n",
    "import difflib"
   ]
  },
  {
   "cell_type": "markdown",
   "metadata": {
    "id": "qWzxxp-hZaAs"
   },
   "source": [
    "**Hello, You only have to change one thing in this code which is the Masterdir, here you specify the path to the directory where your images are. After that you can do Cell Run all/ Kernel restart run all from the menu above to run the code**"
   ]
  },
  {
   "cell_type": "code",
   "execution_count": null,
   "metadata": {
    "colab": {
     "base_uri": "https://localhost:8080/"
    },
    "id": "3z7zSBDo2xNK",
    "outputId": "f430a732-6d53-489d-fcc4-8957e74efc42"
   },
   "outputs": [
    {
     "name": "stdout",
     "output_type": "stream",
     "text": [
      "WARNING:tensorflow:From /tensorflow-1.15.2/python3.7/tensorflow_core/python/ops/resource_variable_ops.py:1630: calling BaseResourceVariable.__init__ (from tensorflow.python.ops.resource_variable_ops) with constraint is deprecated and will be removed in a future version.\n",
      "Instructions for updating:\n",
      "If using Keras pass *_constraint arguments to layers.\n",
      "WARNING:tensorflow:From /usr/local/lib/python3.7/dist-packages/keras/backend/tensorflow_backend.py:4070: The name tf.nn.max_pool is deprecated. Please use tf.nn.max_pool2d instead.\n",
      "\n",
      "Loading network weights from 'weights_best.h5'.\n"
     ]
    }
   ],
   "source": [
    "Masterdir = '/media/sancere/Images_For_FAQT/UnRotated/'\n",
    "LeftName = 'L'\n",
    "RightName = 'R'\n",
    "\n",
    "MaskResults = Masterdir + '/MaskResults/'\n",
    "AsymmetryResults = Masterdir + '/AsymmetryResults/'\n",
    "AsymmetryResultsName = 'Asymmetry'\n",
    "Model_Dir = '/home/sancere/Kepler/SegmentationModel/'\n",
    "\n",
    "UNETSegmentationModelName = 'DeepWingSegmentationModelUNET'\n",
    "\n",
    "UnetModel = CARE(config = None, name = UNETSegmentationModelName, basedir = Model_Dir)"
   ]
  },
  {
   "cell_type": "code",
   "execution_count": null,
   "metadata": {
    "id": "Emph622h2xNU",
    "scrolled": false
   },
   "outputs": [],
   "source": [
    "#Apply the prediction on wing directory\n",
    "min_size = 15000\n",
    "Raw_path = os.path.join(Masterdir, '*tif')\n",
    "Path(MaskResults).mkdir(exist_ok = True)\n",
    "Path(AsymmetryResults).mkdir(exist_ok = True)\n",
    "axes = 'YXC'\n",
    "saveaxes = 'YX'\n",
    "filesRaw = glob.glob(Raw_path)\n",
    "filesRaw.sort\n",
    "count = 0\n",
    "axis_norm = (0,1,2)   # normalize channels independently\n",
    "count = 0\n",
    "for fname in filesRaw:\n",
    "            \n",
    "            #Read image        \n",
    "            image = imread(fname)\n",
    "            \n",
    "            originalX = image.shape[0]\n",
    "            originalY = image.shape[1]  \n",
    "            \n",
    "            Name = os.path.basename(os.path.splitext(fname)[0])\n",
    "      \n",
    "            print(Name, image.shape, Name[-1])\n",
    "            if Name[-1] == 'R':\n",
    "            \n",
    "                image = ndimage.rotate(image,  180,  reshape=False)\n",
    "               \n",
    "            x = image[:,:,0:3]\n",
    "            \n",
    "\n",
    "            #Make sure image is 2D\n",
    "\n",
    "            Segmented = UnetModel.predict(x,axes)\n",
    "            thresh = threshold_otsu(Segmented) \n",
    "            Binary = Segmented > thresh\n",
    "            Filled = binary_fill_holes(Binary)\n",
    "            Finalimage = remove_small_objects(Filled, min_size)\n",
    "     \n",
    "            \n",
    "            \n",
    "            if count%1 == 0:\n",
    "              doubleplot(image,Finalimage[:,:,0], 'Original', 'UNET', plotTitle = 'Segmentation Result' )\n",
    "            count = count + 1 \n",
    "            imwrite((MaskResults + 'Mask' + Name + '.tif' ) , Finalimage.astype('uint8'))\n"
   ]
  },
  {
   "cell_type": "markdown",
   "metadata": {
    "id": "H5TV3LSkZXEM"
   },
   "source": []
  },
  {
   "cell_type": "code",
   "execution_count": null,
   "metadata": {
    "colab": {
     "base_uri": "https://localhost:8080/",
     "height": 1000
    },
    "id": "YEJ1LMSb2xNa",
    "outputId": "9a57269f-9c52-4b39-e94f-d8f8a8a6f183"
   },
   "outputs": [
    {
     "name": "stdout",
     "output_type": "stream",
     "text": [
      "MaskD21L MaskD21R\n",
      "MaskD12L MaskD12R\n",
      "MaskDO4L MaskDO4R\n",
      "MaskDO7L MaskDO7R\n",
      "MaskD10L MaskD10R\n",
      "MaskD13L MaskD13R\n",
      "MaskD14L MaskD14R\n",
      "MaskD20L MaskD20R\n",
      "MaskD17L MaskD17R\n",
      "MaskDO9L MaskDO9R\n",
      "MaskD15L MaskD15R\n",
      "MaskDO5L MaskDO5R\n",
      "MaskD19L MaskD19R\n",
      "MaskDO2L MaskDO2R\n",
      "MaskDO1L MaskDO1R\n",
      "MaskD11L MaskD11R\n",
      "MaskDO3L MaskDO3R\n",
      "MaskD16L MaskD16R\n",
      "MaskDO6L MaskDO6R\n",
      "MaskD22L MaskD22R\n",
      "MaskD23L MaskD23R\n",
      "MaskDO8L MaskDO8R\n",
      "MaskD18L MaskD18R\n"
     ]
    },
    {
     "data": {
      "text/html": [
       "<div>\n",
       "<style scoped>\n",
       "    .dataframe tbody tr th:only-of-type {\n",
       "        vertical-align: middle;\n",
       "    }\n",
       "\n",
       "    .dataframe tbody tr th {\n",
       "        vertical-align: top;\n",
       "    }\n",
       "\n",
       "    .dataframe thead th {\n",
       "        text-align: right;\n",
       "    }\n",
       "</style>\n",
       "<table border=\"1\" class=\"dataframe\">\n",
       "  <thead>\n",
       "    <tr style=\"text-align: right;\">\n",
       "      <th></th>\n",
       "      <th>RightArea</th>\n",
       "      <th>LeftArea</th>\n",
       "      <th>Right-Left</th>\n",
       "      <th>Right+Left</th>\n",
       "      <th>Assymmetery</th>\n",
       "    </tr>\n",
       "  </thead>\n",
       "  <tbody>\n",
       "    <tr>\n",
       "      <th>MaskD21L</th>\n",
       "      <td>268372</td>\n",
       "      <td>268372</td>\n",
       "      <td>0</td>\n",
       "      <td>536744</td>\n",
       "      <td>0.000000</td>\n",
       "    </tr>\n",
       "    <tr>\n",
       "      <th>MaskD12L</th>\n",
       "      <td>242472</td>\n",
       "      <td>242460</td>\n",
       "      <td>12</td>\n",
       "      <td>484932</td>\n",
       "      <td>0.000049</td>\n",
       "    </tr>\n",
       "    <tr>\n",
       "      <th>MaskDO4L</th>\n",
       "      <td>268596</td>\n",
       "      <td>268578</td>\n",
       "      <td>18</td>\n",
       "      <td>537174</td>\n",
       "      <td>0.000067</td>\n",
       "    </tr>\n",
       "    <tr>\n",
       "      <th>MaskDO7L</th>\n",
       "      <td>264000</td>\n",
       "      <td>264016</td>\n",
       "      <td>-16</td>\n",
       "      <td>528016</td>\n",
       "      <td>-0.000061</td>\n",
       "    </tr>\n",
       "    <tr>\n",
       "      <th>MaskD10L</th>\n",
       "      <td>263801</td>\n",
       "      <td>263827</td>\n",
       "      <td>-26</td>\n",
       "      <td>527628</td>\n",
       "      <td>-0.000099</td>\n",
       "    </tr>\n",
       "    <tr>\n",
       "      <th>MaskD13L</th>\n",
       "      <td>246312</td>\n",
       "      <td>246319</td>\n",
       "      <td>-7</td>\n",
       "      <td>492631</td>\n",
       "      <td>-0.000028</td>\n",
       "    </tr>\n",
       "    <tr>\n",
       "      <th>MaskD14L</th>\n",
       "      <td>264535</td>\n",
       "      <td>264546</td>\n",
       "      <td>-11</td>\n",
       "      <td>529081</td>\n",
       "      <td>-0.000042</td>\n",
       "    </tr>\n",
       "    <tr>\n",
       "      <th>MaskD20L</th>\n",
       "      <td>260224</td>\n",
       "      <td>260229</td>\n",
       "      <td>-5</td>\n",
       "      <td>520453</td>\n",
       "      <td>-0.000019</td>\n",
       "    </tr>\n",
       "    <tr>\n",
       "      <th>MaskD17L</th>\n",
       "      <td>263063</td>\n",
       "      <td>263078</td>\n",
       "      <td>-15</td>\n",
       "      <td>526141</td>\n",
       "      <td>-0.000057</td>\n",
       "    </tr>\n",
       "    <tr>\n",
       "      <th>MaskDO9L</th>\n",
       "      <td>275463</td>\n",
       "      <td>275489</td>\n",
       "      <td>-26</td>\n",
       "      <td>550952</td>\n",
       "      <td>-0.000094</td>\n",
       "    </tr>\n",
       "    <tr>\n",
       "      <th>MaskD15L</th>\n",
       "      <td>257538</td>\n",
       "      <td>257571</td>\n",
       "      <td>-33</td>\n",
       "      <td>515109</td>\n",
       "      <td>-0.000128</td>\n",
       "    </tr>\n",
       "    <tr>\n",
       "      <th>MaskDO5L</th>\n",
       "      <td>263669</td>\n",
       "      <td>263699</td>\n",
       "      <td>-30</td>\n",
       "      <td>527368</td>\n",
       "      <td>-0.000114</td>\n",
       "    </tr>\n",
       "    <tr>\n",
       "      <th>MaskD19L</th>\n",
       "      <td>271774</td>\n",
       "      <td>271803</td>\n",
       "      <td>-29</td>\n",
       "      <td>543577</td>\n",
       "      <td>-0.000107</td>\n",
       "    </tr>\n",
       "    <tr>\n",
       "      <th>MaskDO2L</th>\n",
       "      <td>232904</td>\n",
       "      <td>232935</td>\n",
       "      <td>-31</td>\n",
       "      <td>465839</td>\n",
       "      <td>-0.000133</td>\n",
       "    </tr>\n",
       "    <tr>\n",
       "      <th>MaskDO1L</th>\n",
       "      <td>245379</td>\n",
       "      <td>245431</td>\n",
       "      <td>-52</td>\n",
       "      <td>490810</td>\n",
       "      <td>-0.000212</td>\n",
       "    </tr>\n",
       "    <tr>\n",
       "      <th>MaskD11L</th>\n",
       "      <td>255944</td>\n",
       "      <td>255936</td>\n",
       "      <td>8</td>\n",
       "      <td>511880</td>\n",
       "      <td>0.000031</td>\n",
       "    </tr>\n",
       "    <tr>\n",
       "      <th>MaskDO3L</th>\n",
       "      <td>249806</td>\n",
       "      <td>249781</td>\n",
       "      <td>25</td>\n",
       "      <td>499587</td>\n",
       "      <td>0.000100</td>\n",
       "    </tr>\n",
       "    <tr>\n",
       "      <th>MaskD16L</th>\n",
       "      <td>250581</td>\n",
       "      <td>250592</td>\n",
       "      <td>-11</td>\n",
       "      <td>501173</td>\n",
       "      <td>-0.000044</td>\n",
       "    </tr>\n",
       "    <tr>\n",
       "      <th>MaskDO6L</th>\n",
       "      <td>234380</td>\n",
       "      <td>234410</td>\n",
       "      <td>-30</td>\n",
       "      <td>468790</td>\n",
       "      <td>-0.000128</td>\n",
       "    </tr>\n",
       "    <tr>\n",
       "      <th>MaskD22L</th>\n",
       "      <td>229671</td>\n",
       "      <td>229703</td>\n",
       "      <td>-32</td>\n",
       "      <td>459374</td>\n",
       "      <td>-0.000139</td>\n",
       "    </tr>\n",
       "    <tr>\n",
       "      <th>MaskD23L</th>\n",
       "      <td>215654</td>\n",
       "      <td>215655</td>\n",
       "      <td>-1</td>\n",
       "      <td>431309</td>\n",
       "      <td>-0.000005</td>\n",
       "    </tr>\n",
       "    <tr>\n",
       "      <th>MaskDO8L</th>\n",
       "      <td>262582</td>\n",
       "      <td>262555</td>\n",
       "      <td>27</td>\n",
       "      <td>525137</td>\n",
       "      <td>0.000103</td>\n",
       "    </tr>\n",
       "    <tr>\n",
       "      <th>MaskD18L</th>\n",
       "      <td>264594</td>\n",
       "      <td>264561</td>\n",
       "      <td>33</td>\n",
       "      <td>529155</td>\n",
       "      <td>0.000125</td>\n",
       "    </tr>\n",
       "  </tbody>\n",
       "</table>\n",
       "</div>"
      ],
      "text/plain": [
       "          RightArea  LeftArea  Right-Left  Right+Left  Assymmetery\n",
       "MaskD21L     268372    268372           0      536744     0.000000\n",
       "MaskD12L     242472    242460          12      484932     0.000049\n",
       "MaskDO4L     268596    268578          18      537174     0.000067\n",
       "MaskDO7L     264000    264016         -16      528016    -0.000061\n",
       "MaskD10L     263801    263827         -26      527628    -0.000099\n",
       "MaskD13L     246312    246319          -7      492631    -0.000028\n",
       "MaskD14L     264535    264546         -11      529081    -0.000042\n",
       "MaskD20L     260224    260229          -5      520453    -0.000019\n",
       "MaskD17L     263063    263078         -15      526141    -0.000057\n",
       "MaskDO9L     275463    275489         -26      550952    -0.000094\n",
       "MaskD15L     257538    257571         -33      515109    -0.000128\n",
       "MaskDO5L     263669    263699         -30      527368    -0.000114\n",
       "MaskD19L     271774    271803         -29      543577    -0.000107\n",
       "MaskDO2L     232904    232935         -31      465839    -0.000133\n",
       "MaskDO1L     245379    245431         -52      490810    -0.000212\n",
       "MaskD11L     255944    255936           8      511880     0.000031\n",
       "MaskDO3L     249806    249781          25      499587     0.000100\n",
       "MaskD16L     250581    250592         -11      501173    -0.000044\n",
       "MaskDO6L     234380    234410         -30      468790    -0.000128\n",
       "MaskD22L     229671    229703         -32      459374    -0.000139\n",
       "MaskD23L     215654    215655          -1      431309    -0.000005\n",
       "MaskDO8L     262582    262555          27      525137     0.000103\n",
       "MaskD18L     264594    264561          33      529155     0.000125"
      ]
     },
     "execution_count": 6,
     "metadata": {
      "tags": []
     },
     "output_type": "execute_result"
    }
   ],
   "source": [
    "import pandas as pd\n",
    "Path(AsymmetryResults).mkdir(exist_ok = True)\n",
    "Raw_pathRight = os.path.join(MaskResults, '*tif')\n",
    "Raw_pathLeft = os.path.join(MaskResults, '*tif')\n",
    "\n",
    "filesRawRight = glob.glob(Raw_pathRight)\n",
    "filesRawLeft = glob.glob(Raw_pathLeft)\n",
    "\n",
    "\n",
    "AllRightArea = []\n",
    "AllLeftArea = []\n",
    "AllRightMinusLeftArea = []\n",
    "AllRightPlusLeftArea = []\n",
    "AllAssymetery = []\n",
    "AllName = []\n",
    "pd.set_option('display.max_rows', 500)\n",
    "pd.set_option('display.max_columns', 500)\n",
    "pd.set_option('display.width', 150)\n",
    "for fnameRight in filesRawRight:\n",
    "    \n",
    "   NameRight = os.path.basename(os.path.splitext(fnameRight)[0]) \n",
    "   imageRight = imread(fnameRight)\n",
    "   for fnameLeft in filesRawLeft:\n",
    "       NameLeft = os.path.basename(os.path.splitext(fnameLeft)[0]) \n",
    "       imageLeft = imread(fnameLeft) \n",
    "       \n",
    "       ChangeName = difflib.ndiff(NameLeft, NameRight)\n",
    "       delta = ''.join(x[0:] for x in ChangeName if x.startswith('- '))\n",
    "       \n",
    "       #ChangeName = NameRight.replace(RightName, LeftName) \n",
    "       if delta == '- L':\n",
    "           print(NameLeft, NameRight)\n",
    "           RightArea, LeftArea, RightMinusLeft, RightPlusLeft, Assymetery = WingArea(imageLeft, imageRight)\n",
    "         \n",
    "           AllName.append(NameLeft)\n",
    "           AllRightArea.append(RightArea)\n",
    "           AllLeftArea.append(LeftArea)\n",
    "           AllRightMinusLeftArea.append(RightMinusLeft)\n",
    "           AllRightPlusLeftArea.append(RightPlusLeft)\n",
    "           AllAssymetery.append(Assymetery)\n",
    "            \n",
    "df = pd.DataFrame(list(zip(AllRightArea,AllLeftArea,AllRightMinusLeftArea,AllRightPlusLeftArea,AllAssymetery)), index =AllName, \n",
    "                                              columns =['RightArea', 'LeftArea', 'Right-Left', 'Right+Left', 'Assymmetery'])\n",
    "\n",
    "df.to_csv(AsymmetryResults + '/' + AsymmetryResultsName +  '.csv')  \n",
    "df"
   ]
  },
  {
   "cell_type": "code",
   "execution_count": null,
   "metadata": {
    "colab": {
     "base_uri": "https://localhost:8080/"
    },
    "id": "k2bbRfSY2xNg",
    "outputId": "b76cd13a-7d3e-4f1c-924f-a3d6e5a5bd60"
   },
   "outputs": [
    {
     "name": "stdout",
     "output_type": "stream",
     "text": [
      "Positive Count 6\n",
      "Negative Count 16\n"
     ]
    }
   ],
   "source": [
    "positivecount = np.sum(df['Assymmetery']>0)\n",
    "negativecount = np.sum(df['Assymmetery']<0)   \n",
    "print('Positive Count' , positivecount)\n",
    "print('Negative Count' , negativecount)"
   ]
  },
  {
   "cell_type": "code",
   "execution_count": null,
   "metadata": {
    "id": "OmRr5L0X2xNl"
   },
   "outputs": [],
   "source": [
    "\n"
   ]
  },
  {
   "cell_type": "code",
   "execution_count": null,
   "metadata": {
    "colab": {
     "base_uri": "https://localhost:8080/",
     "height": 294
    },
    "id": "6K1-RidKK0k3",
    "outputId": "0f036b2d-941b-4039-f19c-11d7ed87f0c4"
   },
   "outputs": [
    {
     "data": {
      "image/png": "[encoded data removed]",
      "text/plain": [
       "<Figure size 432x288 with 1 Axes>"
      ]
     },
     "metadata": {
      "image/png": {
       "height": 277,
       "width": 419
      },
      "needs_background": "light",
      "tags": []
     },
     "output_type": "display_data"
    }
   ],
   "source": [
    "plt.plot(AllAssymetery)\n",
    "plt.title(\"Asymmetry\")\n",
    "plt.ylabel(\"Asymmetry\")\n",
    "plt.xlabel(\"Filenumber\")\n",
    "plt.show()"
   ]
  },
  {
   "cell_type": "code",
   "execution_count": null,
   "metadata": {
    "id": "zQubzgyqeodz"
   },
   "outputs": [],
   "source": []
  }
 ],
 "metadata": {
  "accelerator": "TPU",
  "colab": {
   "collapsed_sections": [],
   "machine_shape": "hm",
   "name": "FAQT.ipynb",
   "provenance": []
  },
  "kernelspec": {
   "display_name": "Python 3",
   "language": "python",
   "name": "python3"
  },
  "language_info": {
   "codemirror_mode": {
    "name": "ipython",
    "version": 3
   },
   "file_extension": ".py",
   "mimetype": "text/x-python",
   "name": "python",
   "nbconvert_exporter": "python",
   "pygments_lexer": "ipython3",
   "version": "3.7.4"
  },
  "toc": {
   "base_numbering": 1,
   "nav_menu": {},
   "number_sections": false,
   "sideBar": false,
   "skip_h1_title": false,
   "title_cell": "Table of Contents",
   "title_sidebar": "Contents",
   "toc_cell": false,
   "toc_position": {},
   "toc_section_display": false,
   "toc_window_display": false
  }
 },
 "nbformat": 4,
 "nbformat_minor": 1
}
