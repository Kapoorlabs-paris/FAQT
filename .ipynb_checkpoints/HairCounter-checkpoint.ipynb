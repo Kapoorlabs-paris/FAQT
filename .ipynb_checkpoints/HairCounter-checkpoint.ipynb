{
 "cells": [
  {
   "cell_type": "code",
   "execution_count": null,
   "metadata": {},
   "outputs": [],
   "source": [
    "import sys\n",
    "import os\n",
    "import numpy as np\n",
    "import glob\n",
    "from tifffile import imread, imwrite\n",
    "import napari\n",
    "from pathlib import Path\n",
    "from skimage.measure import  label\n",
    "import pandas as pd\n",
    "from skimage import measure\n",
    "from skimage.morphology import remove_small_objects"
   ]
  },
  {
   "cell_type": "code",
   "execution_count": null,
   "metadata": {},
   "outputs": [],
   "source": [
    "Imagedir = '/Users/aimachine/fmi-assignment/Denoised/'\n",
    "Resultdir = '/Users/aimachine/fmi-assignment/Results/'\n",
    "Path(Resultdir).mkdir(exist_ok=True)\n"
   ]
  },
  {
   "cell_type": "code",
   "execution_count": null,
   "metadata": {},
   "outputs": [],
   "source": [
    "#Use the probability image coming out of Ilastik for the (first) spot channel \n",
    "#and threshold to remove low probability detections\n",
    "ProbabilityThreshold = 0.5\n",
    "#Remove spots below a certain size, to get rid of tiney dots\n",
    "min_size = 20"
   ]
  },
  {
   "cell_type": "code",
   "execution_count": null,
   "metadata": {},
   "outputs": [],
   "source": [
    "Raw_path = os.path.join(Imagedir, '*tif')\n",
    "filesRaw = glob.glob(Raw_path)\n",
    "filesRaw.sort"
   ]
  },
  {
   "cell_type": "code",
   "execution_count": null,
   "metadata": {},
   "outputs": [],
   "source": [
    "AllCount = []\n",
    "AllName = []\n",
    "for fname in filesRaw:\n",
    "    Name = os.path.basename(os.path.splitext(fname)[0])\n",
    "    TwoChannel = imread(fname)\n",
    "    SpotChannel = TwoChannel[:,0,:,:]\n",
    "    Binary = SpotChannel > ProbabilityThreshold\n",
    "    Binary = remove_small_objects(Binary, min_size = min_size)\n",
    "    Integer = label(Binary)\n",
    "    waterproperties = measure.regionprops(Integer, Integer)\n",
    "    labels = []\n",
    "    for prop in waterproperties:\n",
    "        if prop.label > 0:\n",
    "                 \n",
    "                  labels.append(prop.label)\n",
    "    count = len(labels)\n",
    "    imwrite(Resultdir + Name + '.tif', Integer.astype('uint16')) \n",
    "    AllName.append(Name)\n",
    "    Allcount.append(count)\n",
    "    \n",
    "df = pd.DataFrame(list(zip(AllCount)), index =AllName, \n",
    "                                              columns =['Count'])\n",
    "\n",
    "df.to_csv(Resultdir + '/' + CountMasks +  '.csv')  \n",
    "df    \n",
    "    "
   ]
  }
 ],
 "metadata": {
  "kernelspec": {
   "display_name": "Python 3",
   "language": "python",
   "name": "python3"
  },
  "language_info": {
   "codemirror_mode": {
    "name": "ipython",
    "version": 3
   },
   "file_extension": ".py",
   "mimetype": "text/x-python",
   "name": "python",
   "nbconvert_exporter": "python",
   "pygments_lexer": "ipython3",
   "version": "3.7.9"
  }
 },
 "nbformat": 4,
 "nbformat_minor": 4
}
