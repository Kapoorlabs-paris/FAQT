{
 "cells": [
  {
   "cell_type": "code",
   "execution_count": 1,
   "metadata": {},
   "outputs": [],
   "source": [
    "import sys\n",
    "import os\n",
    "import numpy as np\n",
    "import difflib\n",
    "import matplotlib.pyplot as plt\n",
    "import glob\n",
    "from tifffile import imsave\n",
    "from tifffile import imread, imwrite\n",
    "import napari\n",
    "from Utils.helpers import Prob_to_Binary, zero_pad_color, multiplot,WingArea, multiplotline\n",
    "import tifffile\n",
    "from pathlib import Path"
   ]
  },
  {
   "cell_type": "code",
   "execution_count": 13,
   "metadata": {},
   "outputs": [],
   "source": [
    "Masterdir =  '/media/sancere/Newton_Volume_1/DalmiroAnalysis/UnRotated/'\n",
    "\n",
    "LeftName = 'L'\n",
    "RightName = 'R'\n",
    "\n",
    "MaskResults =  '/media/sancere/Newton_Volume_1/DalmiroAnalysis/UnRotated/MaskResults/'\n",
    "\n",
    "AsymmetryResults = Masterdir + '/AsymmetryResults/'\n",
    "AsymmetryResultsName = 'Asymmetry'\n",
    "#OverlayResults = MaskResults + '/Overlays/'\n"
   ]
  },
  {
   "cell_type": "code",
   "execution_count": null,
   "metadata": {},
   "outputs": [],
   "source": [
    "\n"
   ]
  },
  {
   "cell_type": "code",
   "execution_count": null,
   "metadata": {
    "scrolled": false
   },
   "outputs": [
    {
     "name": "stdout",
     "output_type": "stream",
     "text": [
      "name\n",
      "name\n",
      "name\n",
      "name\n",
      "name\n",
      "name\n",
      "name\n",
      "name\n",
      "name\n",
      "name\n",
      "name\n",
      "name\n",
      "name\n",
      "name\n",
      "name\n",
      "name\n",
      "name\n",
      "name\n",
      "name\n",
      "name\n",
      "name\n",
      "name\n",
      "name\n"
     ]
    }
   ],
   "source": [
    "Raw_path = os.path.join(Masterdir, '*tif')\n",
    "Left_path = os.path.join(MaskResults, '*tif')\n",
    "filesRaw = glob.glob(Raw_path)\n",
    "filesRaw.sort\n",
    "filesLeft = glob.glob(Left_path)\n",
    "filesLeft.sort\n",
    "\n",
    "axes = 'YX'\n",
    "saveaxes = 'YX'\n",
    "#Path(OverlayResults).mkdir(exist_ok = True)\n",
    "RawImages = []\n",
    "LeftImages = []\n",
    "Name = []\n",
    "count = 0\n",
    "for fname in filesRaw:\n",
    "  for secondname in filesLeft:\n",
    "    if os.path.basename(os.path.splitext(secondname)[0]) == 'Mask' + os.path.basename(os.path.splitext(fname)[0]):\n",
    "            image = imread(fname)\n",
    "            Leftimage = imread(secondname)\n",
    "            RawImages.append(image)\n",
    "            LeftImages.append(Leftimage.astype('uint16'))\n",
    "            Name.append(os.path.basename(os.path.splitext(fname)[0]))\n",
    "            count = count + 1\n",
    "            if count >=100:\n",
    "                break\n",
    "with napari.gui_qt():\n",
    "   \n",
    "    # initialise viewer with Left wing image\n",
    "    viewer = napari.view_image(np.asarray(RawImages), name='Wings', rgb=True)\n",
    "\n",
    "    # add the labels\n",
    "    label_layer = viewer.add_labels(np.asarray(LeftImages), name='segmentation')  \n",
    "    \n",
    "\n",
    "    \n",
    "ModifiedArray = viewer.layers['segmentation'].data \n",
    "\n",
    "for i in range(0, ModifiedArray.shape[0]):\n",
    "     imwrite((MaskResults + 'Mask' + Name[i] + '.tif' ) , ModifiedArray[i].astype('uint8'))\n",
    "     \n",
    "                "
   ]
  },
  {
   "cell_type": "code",
   "execution_count": null,
   "metadata": {},
   "outputs": [],
   "source": [
    "WrongIndex = [ ]\n",
    "\n"
   ]
  },
  {
   "cell_type": "code",
   "execution_count": null,
   "metadata": {},
   "outputs": [],
   "source": [
    "import pandas as pd\n",
    "Path(AsymmetryResults).mkdir(exist_ok = True)\n",
    "Raw_pathRight = os.path.join(MaskResults, '*tif')\n",
    "Raw_pathLeft = os.path.join(MaskResults, '*tif')\n",
    "\n",
    "filesRawRight = glob.glob(Raw_pathRight)\n",
    "filesRawLeft = glob.glob(Raw_pathLeft)\n",
    "\n",
    "\n",
    "AllRightArea = []\n",
    "AllLeftArea = []\n",
    "AllRightMinusLeftArea = []\n",
    "AllRightPlusLeftArea = []\n",
    "AllAssymetery = []\n",
    "AllName = []\n",
    "pd.set_option('display.max_rows', 500)\n",
    "pd.set_option('display.max_columns', 500)\n",
    "pd.set_option('display.width', 150)\n",
    "for fnameRight in filesRawRight:\n",
    "    \n",
    "   NameRight = os.path.basename(os.path.splitext(fnameRight)[0]) \n",
    "   imageRight = imread(fnameRight)\n",
    "   for fnameLeft in filesRawLeft:\n",
    "       NameLeft = os.path.basename(os.path.splitext(fnameLeft)[0]) \n",
    "       imageLeft = imread(fnameLeft) \n",
    "       \n",
    "       ChangeName = difflib.ndiff(NameLeft, NameRight)\n",
    "       delta = ''.join(x[0:] for x in ChangeName if x.startswith('- '))\n",
    "      \n",
    "       #ChangeName = NameRight.replace(RightName, LeftName) \n",
    "       if delta == '- L':\n",
    "           print(NameLeft, NameRight)\n",
    "           RightArea, LeftArea, RightMinusLeft, RightPlusLeft, Assymetery = WingArea(imageLeft, imageRight)\n",
    "         \n",
    "           AllName.append(NameLeft)\n",
    "           AllRightArea.append(RightArea)\n",
    "           AllLeftArea.append(LeftArea)\n",
    "           AllRightMinusLeftArea.append(RightMinusLeft)\n",
    "           AllRightPlusLeftArea.append(RightPlusLeft)\n",
    "           AllAssymetery.append(Assymetery)\n",
    "            \n",
    "df = pd.DataFrame(list(zip(AllRightArea,AllLeftArea,AllRightMinusLeftArea,AllRightPlusLeftArea,AllAssymetery)), index =AllName, \n",
    "                                              columns =['RightArea', 'LeftArea', 'Right-Left', 'Right+Left', 'Assymmetery'])\n",
    "\n",
    "df.to_csv(AsymmetryResults + '/' + AsymmetryResultsName +  '.csv')  \n",
    "df"
   ]
  },
  {
   "cell_type": "code",
   "execution_count": null,
   "metadata": {},
   "outputs": [],
   "source": [
    "positivecount = np.sum(df['Assymmetery']>0)\n",
    "negativecount = np.sum(df['Assymmetery']<0)   \n",
    "print('Positive Count' , positivecount)\n",
    "print('Negative Count' , negativecount)"
   ]
  },
  {
   "cell_type": "code",
   "execution_count": null,
   "metadata": {},
   "outputs": [],
   "source": [
    "multiplotline(AllRightArea, AllLeftArea, AllRightMinusLeftArea, AllRightPlusLeftArea, 'Right Area', 'Left Area', 'Right-Left', 'Right+Left', targetdir = AsymmetryResults, File = '', plotTitle = 'Asymmetry')\n"
   ]
  },
  {
   "cell_type": "code",
   "execution_count": null,
   "metadata": {},
   "outputs": [],
   "source": [
    "plt.plot(AllAssymetery)\n",
    "plt.title(\"Asymmetry\")\n",
    "plt.ylabel(\"Asymmetry\")\n",
    "plt.xlabel(\"Filenumber\")\n",
    "plt.show()"
   ]
  },
  {
   "cell_type": "code",
   "execution_count": null,
   "metadata": {},
   "outputs": [],
   "source": []
  },
  {
   "cell_type": "code",
   "execution_count": null,
   "metadata": {},
   "outputs": [],
   "source": []
  }
 ],
 "metadata": {
  "kernelspec": {
   "display_name": "Python [conda env:tensorflowGPU] *",
   "language": "python",
   "name": "conda-env-tensorflowGPU-py"
  },
  "language_info": {
   "codemirror_mode": {
    "name": "ipython",
    "version": 3
   },
   "file_extension": ".py",
   "mimetype": "text/x-python",
   "name": "python",
   "nbconvert_exporter": "python",
   "pygments_lexer": "ipython3",
   "version": "3.6.10"
  }
 },
 "nbformat": 4,
 "nbformat_minor": 2
}
