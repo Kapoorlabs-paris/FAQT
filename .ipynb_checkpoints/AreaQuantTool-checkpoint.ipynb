{
 "cells": [
  {
   "cell_type": "code",
   "execution_count": 1,
   "metadata": {},
   "outputs": [
    {
     "name": "stderr",
     "output_type": "stream",
     "text": [
      "Using TensorFlow backend.\n"
     ]
    }
   ],
   "source": [
    "\n",
    "import sys\n",
    "import os\n",
    "from csbdeep.utils import Path, normalize\n",
    "import matplotlib.pyplot as plt\n",
    "from skimage.morphology import remove_small_objects\n",
    "import glob\n",
    "import cv2\n",
    "from scipy.ndimage.morphology import binary_fill_holes\n",
    "from tifffile import imread, imwrite\n",
    "from csbdeep.utils import Path, normalize\n",
    "from Utils.helpers import multiplot, doubleplot, WingArea\n",
    "from csbdeep.models import Config, CARE\n",
    "from skimage.filters import threshold_otsu\n"
   ]
  },
  {
   "cell_type": "code",
   "execution_count": null,
   "metadata": {},
   "outputs": [],
   "source": [
    "Masterdir =  '/media/sancere/Images_For_FAQT/'\n",
    "\n",
    "MaskResults = Masterdir + '/MaskResults/'\n",
    "\n",
    "AreaResults = Masterdir + '/AreaResults/'\n",
    "AreaResultsName = 'Area'\n",
    "\n",
    "Model_Dir = '/home/sancere/Kepler/SegmentationModel/'\n",
    "\n",
    "UNETSegmentationModelName = 'DeepWingSegmentationModelUNET'\n",
    "\n",
    "\n",
    "UnetModel = CARE(config = None, name = UNETSegmentationModelName, basedir = Model_Dir)"
   ]
  },
  {
   "cell_type": "code",
   "execution_count": null,
   "metadata": {},
   "outputs": [],
   "source": [
    "#Apply the prediction on left wing directory\n",
    "min_size = 15000\n",
    "Raw_path = os.path.join(Masterdir, '*tif')\n",
    "Path(MaskResults).mkdir(exist_ok = True)\n",
    "Path(AreaResults).mkdir(exist_ok = True)\n",
    "axes = 'YXC'\n",
    "saveaxes = 'YX'\n",
    "filesRaw = glob.glob(Raw_path)\n",
    "filesRaw.sort\n",
    "count = 0\n",
    "axis_norm = (0,1,2)   # normalize channels independently\n",
    "\n",
    "AllArea = []\n",
    "AllName = []\n",
    "for fname in filesRaw:\n",
    "          \n",
    "            #Read image        \n",
    "            image = imread(fname)\n",
    "            originalX = image.shape[0]\n",
    "            originalY = image.shape[1]  \n",
    "            \n",
    "            Name = os.path.basename(os.path.splitext(fname)[0])\n",
    "         \n",
    "            x = image\n",
    "\n",
    "            Segmented = UnetModel.predict(x,axes)\n",
    "            thresh = threshold_otsu(Segmented) \n",
    "            Binary = Segmented > thresh\n",
    "            Filled = binary_fill_holes(Binary)\n",
    "            NoSmall = remove_small_objects(Filled, min_size)\n",
    "            Finalimage = CCLabels(NoSmall)\n",
    "            RightArea, LeftArea, RightMinusLeft, RightPlusLeft, Assymetery = WingArea(Finalimage, Finalimage)\n",
    "            AllArea.append(RightArea)\n",
    "            AllName.append(Name)\n",
    "            \n",
    "            doubleplot(image,Finalimage[:,:,0], 'Original', 'UNET', plotTitle = 'Segmentation Result' )\n",
    "\n",
    "            imwrite((MaskResultsRight + 'Mask' + Name + '.tif' ) , Finalimage.astype('uint8'))\n",
    "            \n",
    "df = pd.DataFrame(list(zip(AllArea)), index =AllName, \n",
    "                                              columns =['Area'])\n",
    "\n",
    "df.to_csv(AreaResults + '/' + AreaResultsName +  '.csv')  \n",
    "df            "
   ]
  }
 ],
 "metadata": {
  "kernelspec": {
   "display_name": "Python 3",
   "language": "python",
   "name": "python3"
  },
  "language_info": {
   "codemirror_mode": {
    "name": "ipython",
    "version": 3
   },
   "file_extension": ".py",
   "mimetype": "text/x-python",
   "name": "python",
   "nbconvert_exporter": "python",
   "pygments_lexer": "ipython3",
   "version": "3.7.4"
  }
 },
 "nbformat": 4,
 "nbformat_minor": 2
}
