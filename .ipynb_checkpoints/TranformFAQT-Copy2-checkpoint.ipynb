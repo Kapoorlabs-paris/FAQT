{
 "cells": [
  {
   "cell_type": "markdown",
   "metadata": {
    "id": "8VwUfzDFEN6g"
   },
   "source": []
  },
  {
   "cell_type": "code",
   "execution_count": 1,
   "metadata": {
    "id": "rBQjHcnc2zBc"
   },
   "outputs": [
    {
     "name": "stderr",
     "output_type": "stream",
     "text": [
      "Using TensorFlow backend.\n"
     ]
    }
   ],
   "source": [
    "import sys\n",
    "import os\n",
    "os.environ[\"CUDA_VISIBLE_DEVICES\"]=\"1\"\n",
    "import numpy as np\n",
    "import matplotlib.pyplot as plt\n",
    "%matplotlib inline\n",
    "import difflib\n",
    "%config InlineBackend.figure_format = 'retina'\n",
    "from matplotlib import cm\n",
    "import glob\n",
    "from tifffile import imread, imwrite\n",
    "from skimage.filters import threshold_otsu\n",
    "import numpy as np\n",
    "import matplotlib.pyplot as plt\n",
    "from csbdeep.models import Config, CARE\n",
    "import skimage\n",
    "from skimage import transform\n",
    "from scipy.ndimage.morphology import binary_fill_holes\n",
    "from skimage.morphology import remove_small_objects\n",
    "from pathlib import Path\n",
    "from skimage.filters import sobel\n",
    "from skimage.util import invert\n",
    "from skimage.measure import label\n",
    "from PIL import Image"
   ]
  },
  {
   "cell_type": "code",
   "execution_count": 2,
   "metadata": {
    "colab": {
     "base_uri": "https://localhost:8080/"
    },
    "id": "3z7zSBDo2xNK",
    "outputId": "db309281-7086-46db-df19-9ab4ca382d4b"
   },
   "outputs": [
    {
     "name": "stdout",
     "output_type": "stream",
     "text": [
      "WARNING:tensorflow:From /home/sancere/anaconda3/lib/python3.7/site-packages/keras/backend/tensorflow_backend.py:517: The name tf.placeholder is deprecated. Please use tf.compat.v1.placeholder instead.\n",
      "\n",
      "WARNING:tensorflow:From /home/sancere/anaconda3/lib/python3.7/site-packages/keras/backend/tensorflow_backend.py:4138: The name tf.random_uniform is deprecated. Please use tf.random.uniform instead.\n",
      "\n",
      "WARNING:tensorflow:From /home/sancere/anaconda3/lib/python3.7/site-packages/keras/backend/tensorflow_backend.py:3976: The name tf.nn.max_pool is deprecated. Please use tf.nn.max_pool2d instead.\n",
      "\n",
      "WARNING:tensorflow:From /home/sancere/anaconda3/lib/python3.7/site-packages/keras/backend/tensorflow_backend.py:74: The name tf.get_default_graph is deprecated. Please use tf.compat.v1.get_default_graph instead.\n",
      "\n",
      "WARNING:tensorflow:From /home/sancere/anaconda3/lib/python3.7/site-packages/keras/backend/tensorflow_backend.py:2018: The name tf.image.resize_nearest_neighbor is deprecated. Please use tf.compat.v1.image.resize_nearest_neighbor instead.\n",
      "\n",
      "Loading network weights from 'weights_best.h5'.\n",
      "WARNING:tensorflow:From /home/sancere/anaconda3/lib/python3.7/site-packages/keras/backend/tensorflow_backend.py:174: The name tf.get_default_session is deprecated. Please use tf.compat.v1.get_default_session instead.\n",
      "\n",
      "WARNING:tensorflow:From /home/sancere/anaconda3/lib/python3.7/site-packages/keras/backend/tensorflow_backend.py:181: The name tf.ConfigProto is deprecated. Please use tf.compat.v1.ConfigProto instead.\n",
      "\n",
      "WARNING:tensorflow:From /home/sancere/anaconda3/lib/python3.7/site-packages/keras/backend/tensorflow_backend.py:186: The name tf.Session is deprecated. Please use tf.compat.v1.Session instead.\n",
      "\n",
      "WARNING:tensorflow:From /home/sancere/anaconda3/lib/python3.7/site-packages/keras/backend/tensorflow_backend.py:190: The name tf.global_variables is deprecated. Please use tf.compat.v1.global_variables instead.\n",
      "\n",
      "WARNING:tensorflow:From /home/sancere/anaconda3/lib/python3.7/site-packages/keras/backend/tensorflow_backend.py:199: The name tf.is_variable_initialized is deprecated. Please use tf.compat.v1.is_variable_initialized instead.\n",
      "\n",
      "WARNING:tensorflow:From /home/sancere/anaconda3/lib/python3.7/site-packages/keras/backend/tensorflow_backend.py:206: The name tf.variables_initializer is deprecated. Please use tf.compat.v1.variables_initializer instead.\n",
      "\n"
     ]
    }
   ],
   "source": [
    "Masterdir = '/media/sancere/Newton_Volume_1/DalmiroAnalysis/L/'\n",
    "Savedir = '/media/sancere/Newton_Volume_1/DalmiroAnalysis/UnRotated/'\n",
    "Model_Dir = '/home/sancere/Kepler/CurieDeepLearningModels/'\n",
    "UNETSegmentationModelName = 'DeepWingSegmentationModelUNET'\n",
    "UnetModel = CARE(config = None, name = UNETSegmentationModelName, basedir = Model_Dir)\n",
    "Path(Savedir).mkdir(exist_ok = True)"
   ]
  },
  {
   "cell_type": "code",
   "execution_count": 3,
   "metadata": {
    "id": "Sq92jAkNCVPE"
   },
   "outputs": [],
   "source": [
    "def doubleplot(imageA, imageB, titleA, titleB, targetdir = None, File = None, plotTitle = None):\n",
    "    fig, axes = plt.subplots(1, 2, figsize=(15, 6))\n",
    "    ax = axes.ravel()\n",
    "    ax[0].imshow(imageA, cmap=cm.gray)\n",
    "    ax[0].set_title(titleA)\n",
    "    ax[0].set_axis_off()\n",
    "    ax[1].imshow(imageB, cmap=plt.cm.nipy_spectral)\n",
    "    ax[1].set_title(titleB)\n",
    "    ax[1].set_axis_off()\n",
    "\n",
    "    plt.tight_layout()\n",
    "    plt.show()\n",
    "    for a in ax:\n",
    "      a.set_axis_off() "
   ]
  },
  {
   "cell_type": "code",
   "execution_count": null,
   "metadata": {
    "colab": {
     "base_uri": "https://localhost:8080/",
     "height": 949
    },
    "id": "Emph622h2xNU",
    "outputId": "3103b7b3-ed1e-4409-ec5f-a84c14af32a5",
    "scrolled": false
   },
   "outputs": [
    {
     "name": "stderr",
     "output_type": "stream",
     "text": [
      "/home/sancere/anaconda3/lib/python3.7/site-packages/csbdeep/models/base_model.py:255: UserWarning: skipping normalization step after prediction because number of input and output channels differ.\n",
      "  warnings.warn('skipping normalization step after prediction because ' +\n"
     ]
    }
   ],
   "source": [
    "Raw_path = os.path.join(Masterdir, ['*png', '*.jpg'])\n",
    "filesRaw = glob.glob(Raw_path)\n",
    "filesRaw.sort\n",
    "axes = 'YXC'\n",
    "count = 0\n",
    "min_size = 15000\n",
    "for fname in filesRaw:\n",
    "            \n",
    "            #Read image        \n",
    "            image = imread(fname)\n",
    "            Name = os.path.basename(os.path.splitext(fname)[0])\n",
    "            \n",
    "            image = image[:,:,0:3]\n",
    "            #DO the segmentation\n",
    "            Segmented = UnetModel.predict(image,axes)\n",
    "            thresh = threshold_otsu(Segmented) \n",
    "            Binary = Segmented > thresh\n",
    "            Filled = binary_fill_holes(Binary)\n",
    "            Finalimage = remove_small_objects(Filled, min_size)\n",
    "            Finalimage = Finalimage[:,:,0]\n",
    "            y, x = np.nonzero(Finalimage)\n",
    "            x = x - np.mean(x)\n",
    "            y = y - np.mean(y)\n",
    "            coords = np.vstack([x, y])\n",
    "\n",
    "            cov = np.cov(coords)\n",
    "            evals, evecs = np.linalg.eig(cov) \n",
    "\n",
    "\n",
    "            sort_indices = np.argsort(evals)[::-1]\n",
    "            x_v1, y_v1 = evecs[:, sort_indices[0]]  # Eigenvector with largest eigenvalue\n",
    "            x_v2, y_v2 = evecs[:, sort_indices[1]]\n",
    "\n",
    "            #Uncomment lines below to see the eigenvectors\n",
    "            #scale = 20\n",
    "            #plt.plot([x_v1*-scale*2, x_v1*scale*2],\n",
    "                    #[y_v1*-scale*2, y_v1*scale*2], color='red')\n",
    "            #plt.plot([x_v2*-scale, x_v2*scale],\n",
    "                    #[y_v2*-scale, y_v2*scale], color='blue')\n",
    "            \n",
    "            #plt.axis('equal')\n",
    "            #plt.gca().invert_yaxis()  # Match the image system with origin at top left\n",
    "            #plt.show()\n",
    "            theta1 = np.arctan((x_v1)/(y_v1)) \n",
    "            theta2 = np.arctan((x_v2)/(y_v2)) \n",
    "            theta2deg = theta2 * 180 / 3.14\n",
    "            theta1deg = theta1 * 180/3.14\n",
    "          \n",
    "           \n",
    "            rotation_mat = np.matrix([[np.cos(theta2), -np.sin(theta2)],\n",
    "                      [np.sin(theta2), np.cos(theta2)]])\n",
    "            rotatedimage = transform.rotate(image,-theta2deg, resize = False, mode = \"edge\" )\n",
    "            \n",
    "            \n",
    "            #Trial 2\n",
    "            #DO bad segmentation\n",
    "            \n",
    "            testimage = rotatedimage[:,:,0] \n",
    "            thresh = threshold_otsu(testimage) \n",
    "            testimage = testimage > thresh\n",
    "            testimage = invert(testimage)\n",
    "            testimage = label(testimage)\n",
    "            \n",
    "            testimage = remove_small_objects(testimage, min_size)\n",
    "            testimage = testimage > 0\n",
    "    \n",
    "           \n",
    "            \n",
    "            ySec, xSec = np.nonzero(testimage)\n",
    "            xSec = xSec - np.mean(xSec)\n",
    "            ySec = ySec - np.mean(ySec)\n",
    "            coordsSec = np.vstack([xSec, ySec])\n",
    "\n",
    "            try:\n",
    "                covSec = np.cov(coordsSec)\n",
    "                evalsSec, evecsSec = np.linalg.eig(covSec) \n",
    "\n",
    "\n",
    "                sort_indicesSec = np.argsort(evalsSec)[::-1]\n",
    "                x_v1Sec, y_v1Sec = evecsSec[:, sort_indicesSec[0]]  # Eigenvector with largest eigenvalue\n",
    "                x_v2Sec, y_v2Sec = evecsSec[:, sort_indicesSec[1]]\n",
    "\n",
    "\n",
    "                theta1Sec = np.arctan((x_v1Sec)/(y_v1Sec)) \n",
    "                theta2Sec = np.arctan((x_v2Sec)/(y_v2Sec)) \n",
    "                theta2degSec = theta2Sec * 180 / 3.14\n",
    "                theta1degSec = theta1Sec * 180/3.14\n",
    "            except: \n",
    "                    theta2degSec = 0\n",
    "                    theta1degSec = 0\n",
    "\n",
    "            count = count + 1\n",
    "            if Name[-1] == 'R'and theta1degSec < 0:\n",
    "                flippedimage = np.flip(rotatedimage, axis = 0)\n",
    "                imwrite(Savedir + Name + '.tif', flippedimage)\n",
    "                if count%100 == 0:\n",
    "                   doubleplot(image, flippedimage, \"Original\", \"Rotated-and-Flipped\")\n",
    "\n",
    "            if Name[-1] == 'R'and theta1degSec >= 0:   \n",
    "                imwrite(Savedir + Name + '.tif', rotatedimage)\n",
    "                if count%100 == 0:\n",
    "                    doubleplot(image, rotatedimage, \"Original\", \"Rotated\")    \n",
    "\n",
    "            if Name[-1] == 'L'and theta1degSec >= 0:\n",
    "                flippedimage = np.flip(rotatedimage, axis = 0)\n",
    "                imwrite(Savedir + Name + '.tif', flippedimage)\n",
    "                if count%100 == 0:\n",
    "                   doubleplot(image, flippedimage, \"Original\", \"Rotated-and-Flipped\")    \n",
    "\n",
    "            if Name[-1] == 'L'and theta1degSec < 0:   \n",
    "                imwrite(Savedir + Name + '.tif', rotatedimage)\n",
    "                if count%100 == 0:\n",
    "                    doubleplot(image, rotatedimage, \"Original\", \"Rotated\")\n",
    "            "
   ]
  },
  {
   "cell_type": "code",
   "execution_count": null,
   "metadata": {
    "id": "0KTkNlcgBi8H"
   },
   "outputs": [],
   "source": []
  }
 ],
 "metadata": {
  "accelerator": "GPU",
  "colab": {
   "collapsed_sections": [],
   "name": "TranformFAQT.ipynb",
   "provenance": []
  },
  "kernelspec": {
   "display_name": "Python 3",
   "language": "python",
   "name": "python3"
  },
  "language_info": {
   "codemirror_mode": {
    "name": "ipython",
    "version": 3
   },
   "file_extension": ".py",
   "mimetype": "text/x-python",
   "name": "python",
   "nbconvert_exporter": "python",
   "pygments_lexer": "ipython3",
   "version": "3.7.4"
  },
  "toc": {
   "base_numbering": 1,
   "nav_menu": {},
   "number_sections": false,
   "sideBar": false,
   "skip_h1_title": false,
   "title_cell": "Table of Contents",
   "title_sidebar": "Contents",
   "toc_cell": false,
   "toc_position": {},
   "toc_section_display": false,
   "toc_window_display": false
  }
 },
 "nbformat": 4,
 "nbformat_minor": 1
}
