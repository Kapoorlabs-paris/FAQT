{
 "cells": [
  {
   "cell_type": "code",
   "execution_count": 7,
   "metadata": {
    "colab": {
     "base_uri": "https://localhost:8080/",
     "height": 50
    },
    "id": "F3OTh13-3NN8",
    "outputId": "5b9f7e56-b555-400d-e5fc-b47bbbb2471d"
   },
   "outputs": [],
   "source": [
    "import sys\n",
    "sys.path.append(\"../../\")\n",
    "from faqt.helpers import generate_2D_patch_training_dataRGB"
   ]
  },
  {
   "cell_type": "code",
   "execution_count": 8,
   "metadata": {
    "colab": {
     "base_uri": "https://localhost:8080/",
     "height": 269
    },
    "id": "-48WG74r3NOD",
    "outputId": "4f6620d3-6e4a-4cdd-bff2-1f5ac9cf639c",
    "scrolled": false
   },
   "outputs": [
    {
     "name": "stdout",
     "output_type": "stream",
     "text": [
      "==================================================================\n",
      "   20 raw images x    1 transformations   =    20 images\n",
      "   20 images     x    1 patches per image =    20 patches in total\n",
      "==================================================================\n",
      "Input data:\n",
      "/home/sancere/Kepler/CurieTrainingDatasets/Dalmiro_Laura/WingCompartments/: target='BinaryMask', sources=['Original'], axes='YXC', pattern='*.tif*'\n",
      "==================================================================\n",
      "Transformations:\n",
      "1 x Broadcast target image to the shape of source\n",
      "==================================================================\n",
      "Patch size:\n",
      "768 x 1024 x 3\n",
      "==================================================================\n"
     ]
    },
    {
     "name": "stderr",
     "output_type": "stream",
     "text": [
      "100%|██████████| 20/20 [00:04<00:00,  4.86it/s]\n"
     ]
    },
    {
     "name": "stdout",
     "output_type": "stream",
     "text": [
      "Saving data to /home/sancere/Kepler/CurieTrainingDatasets/Dalmiro_Laura/WingCompartmentModelUNET.npz.\n"
     ]
    }
   ],
   "source": [
    "#Generate Patches of Training Data\n",
    "BaseDirectory = '/home/sancere/Kepler/CurieTrainingDatasets/Dalmiro_Laura/WingCompartments/'\n",
    "SaveNpzDirectory = '/home/sancere/Kepler/CurieTrainingDatasets/Dalmiro_Laura/'\n",
    "SaveName = 'WingCompartmentModelUNET.npz'\n",
    "\n",
    "generate_2D_patch_training_dataRGB(BaseDirectory, SaveNpzDirectory, SaveName, patch_size = (768,1024), n_patches_per_image = 1 )\n",
    "\n"
   ]
  },
  {
   "cell_type": "code",
   "execution_count": null,
   "metadata": {},
   "outputs": [],
   "source": []
  }
 ],
 "metadata": {
  "accelerator": "TPU",
  "colab": {
   "collapsed_sections": [],
   "machine_shape": "hm",
   "name": "ColabCreatePatches.ipynb",
   "provenance": []
  },
  "kernelspec": {
   "display_name": "Python 3",
   "language": "python",
   "name": "python3"
  },
  "language_info": {
   "codemirror_mode": {
    "name": "ipython",
    "version": 3
   },
   "file_extension": ".py",
   "mimetype": "text/x-python",
   "name": "python",
   "nbconvert_exporter": "python",
   "pygments_lexer": "ipython3",
   "version": "3.7.0"
  },
  "toc": {
   "base_numbering": 1,
   "nav_menu": {},
   "number_sections": false,
   "sideBar": false,
   "skip_h1_title": false,
   "title_cell": "Table of Contents",
   "title_sidebar": "Contents",
   "toc_cell": false,
   "toc_position": {},
   "toc_section_display": false,
   "toc_window_display": false
  }
 },
 "nbformat": 4,
 "nbformat_minor": 1
}
