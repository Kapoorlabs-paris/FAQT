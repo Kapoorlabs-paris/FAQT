{
 "cells": [
  {
   "cell_type": "code",
   "execution_count": 1,
   "metadata": {},
   "outputs": [],
   "source": [
    "import sys\n",
    "sys.path.append(\"../../\")\n",
    "import os\n",
    "os.environ[\"CUDA_VISIBLE_DEVICES\"]=\"2\"\n",
    "import glob\n",
    "from pathlib import Path\n",
    "import numpy as np\n",
    "from tifffile import imread, imwrite\n",
    "from skimage.measure import label\n",
    "from skimage.morphology import remove_small_objects"
   ]
  },
  {
   "cell_type": "code",
   "execution_count": 2,
   "metadata": {},
   "outputs": [],
   "source": [
    "WholeWingdir = '/home/sancere/Kepler/CurieTrainingDatasets/Dalmiro_Laura/WingCompartments/WholeWing/MaskResults/'\n",
    "Compartmentdir = '/home/sancere/Kepler/CurieTrainingDatasets/Dalmiro_Laura/WingCompartments/WholeWing/MaskCompartmentResults/'\n",
    "Savedir = '/home/sancere/Kepler/CurieTrainingDatasets/Dalmiro_Laura/WingCompartments/WholeWing/VeinResults/'\n",
    "Path(Savedir).mkdir(exist_ok=True)"
   ]
  },
  {
   "cell_type": "code",
   "execution_count": 5,
   "metadata": {},
   "outputs": [],
   "source": [
    "Raw_path = os.path.join(WholeWingdir, '*tif')\n",
    "filesRaw = glob.glob(Raw_path)\n",
    "\n",
    "Comp_path = os.path.join(Compartmentdir, '*tif')\n",
    "filesComp = glob.glob(Comp_path)\n",
    "for fname in filesRaw:\n",
    "    \n",
    "    Name = os.path.basename(os.path.splitext(fname)[0])\n",
    "    for secondfname in filesComp:\n",
    "        \n",
    "        SecondName = os.path.basename(os.path.splitext(secondfname)[0])\n",
    "        \n",
    "        if Name == SecondName:\n",
    "            \n",
    "            WholeWing = imread(fname)\n",
    "            CompartmentWing = imread(secondfname)\n",
    "            VeinWing = np.ones_like(WholeWing)\n",
    "            indiceszero = np.where(WholeWing > 0) and np.where(CompartmentWing > 0)\n",
    "            VeinWing[indiceszero] = 0\n",
    "            VeinWing = VeinWing * WholeWing\n",
    "            VeinWing = label(VeinWing)\n",
    "            VeinWing = remove_small_objects(VeinWing, 500)\n",
    "            VeinWing = VeinWing > 0\n",
    "            imwrite(Savedir + '/' + Name + '.tif', VeinWing.astype('uint8'))\n",
    "            \n",
    "        \n",
    "        \n",
    "    \n",
    "    "
   ]
  },
  {
   "cell_type": "code",
   "execution_count": null,
   "metadata": {},
   "outputs": [],
   "source": []
  }
 ],
 "metadata": {
  "kernelspec": {
   "display_name": "Python 3",
   "language": "python",
   "name": "python3"
  },
  "language_info": {
   "codemirror_mode": {
    "name": "ipython",
    "version": 3
   },
   "file_extension": ".py",
   "mimetype": "text/x-python",
   "name": "python",
   "nbconvert_exporter": "python",
   "pygments_lexer": "ipython3",
   "version": "3.7.4"
  }
 },
 "nbformat": 4,
 "nbformat_minor": 5
}
