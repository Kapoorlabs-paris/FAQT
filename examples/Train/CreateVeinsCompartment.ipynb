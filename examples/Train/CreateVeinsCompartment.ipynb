{
 "cells": [
  {
   "cell_type": "code",
   "execution_count": 9,
   "id": "4e2cd93b",
   "metadata": {},
   "outputs": [],
   "source": [
    "import sys\n",
    "sys.path.append(\"../../\")\n",
    "import os\n",
    "os.environ[\"CUDA_VISIBLE_DEVICES\"]=\"2\"\n",
    "import glob\n",
    "from pathlib import Path\n",
    "import numpy as np\n",
    "from tifffile import imread, imwrite"
   ]
  },
  {
   "cell_type": "code",
   "execution_count": 10,
   "id": "22b418b1",
   "metadata": {},
   "outputs": [],
   "source": [
    "WholeWingdir = '/home/sancere/Kepler/CurieTrainingDatasets/Dalmiro_Laura/WingCompartments/WholeWing/MaskResults/'\n",
    "Compartmentdir = '/home/sancere/Kepler/CurieTrainingDatasets/Dalmiro_Laura/WingCompartments/WholeWing/MaskCompartmentResults/'\n",
    "Savedir = '/home/sancere/Kepler/CurieTrainingDatasets/Dalmiro_Laura/WingCompartments/WholeWing/VeinResults/'\n",
    "Path(Savedir).mkdir(exist_ok=True)"
   ]
  },
  {
   "cell_type": "code",
   "execution_count": 34,
   "id": "55917260",
   "metadata": {},
   "outputs": [],
   "source": [
    "Raw_path = os.path.join(WholeWingdir, '*tif')\n",
    "filesRaw = glob.glob(Raw_path)\n",
    "\n",
    "Comp_path = os.path.join(Compartmentdir, '*tif')\n",
    "filesComp = glob.glob(Comp_path)\n",
    "for fname in filesRaw:\n",
    "    \n",
    "    Name = os.path.basename(os.path.splitext(fname)[0])\n",
    "    for secondfname in filesComp:\n",
    "        \n",
    "        SecondName = os.path.basename(os.path.splitext(secondfname)[0])\n",
    "        \n",
    "        if Name == SecondName:\n",
    "            \n",
    "            WholeWing = imread(fname)\n",
    "            CompartmentWing = imread(secondfname)\n",
    "            VeinWing = np.ones_like(WholeWing)\n",
    "            indiceszero = np.where(WholeWing > 0) and np.where(CompartmentWing > 0)\n",
    "            VeinWing[indiceszero] = 0\n",
    "            VeinWing = VeinWing * WholeWing\n",
    "            imwrite(Savedir + '/' + Name + '.tif', VeinWing.astype('uint8'))\n",
    "            \n",
    "        \n",
    "        \n",
    "    \n",
    "    "
   ]
  },
  {
   "cell_type": "code",
   "execution_count": null,
   "id": "9d0f0441",
   "metadata": {},
   "outputs": [],
   "source": []
  }
 ],
 "metadata": {
  "kernelspec": {
   "display_name": "Python [conda env:tensorflowGPU] *",
   "language": "python",
   "name": "conda-env-tensorflowGPU-py"
  },
  "language_info": {
   "codemirror_mode": {
    "name": "ipython",
    "version": 3
   },
   "file_extension": ".py",
   "mimetype": "text/x-python",
   "name": "python",
   "nbconvert_exporter": "python",
   "pygments_lexer": "ipython3",
   "version": "3.7.0"
  }
 },
 "nbformat": 4,
 "nbformat_minor": 5
}
