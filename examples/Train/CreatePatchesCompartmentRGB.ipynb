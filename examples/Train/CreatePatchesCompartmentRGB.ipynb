{
 "cells": [
  {
   "cell_type": "code",
   "execution_count": null,
   "metadata": {
    "colab": {
     "base_uri": "https://localhost:8080/",
     "height": 50
    },
    "id": "F3OTh13-3NN8",
    "outputId": "5b9f7e56-b555-400d-e5fc-b47bbbb2471d"
   },
   "outputs": [],
   "source": [
    "from faqt.helpers import generate_2D_patch_training_dataRGB"
   ]
  },
  {
   "cell_type": "code",
   "execution_count": null,
   "metadata": {
    "colab": {
     "base_uri": "https://localhost:8080/",
     "height": 269
    },
    "id": "-48WG74r3NOD",
    "outputId": "4f6620d3-6e4a-4cdd-bff2-1f5ac9cf639c",
    "scrolled": false
   },
   "outputs": [],
   "source": [
    "#Generate Patches of Training Data\n",
    "BaseDirectory = 'WingTrainingData/'\n",
    "SaveNpzDirectory = 'WingTrainingData/'\n",
    "SaveName = 'WingCompartmentSegmentationModelUNET.npz'\n",
    "\n",
    "generate_2D_patch_training_dataRGB(BaseDirectory, SaveNpzDirectory, SaveName, patch_size = (768,1024), n_patches_per_image = 1 )\n",
    "\n"
   ]
  }
 ],
 "metadata": {
  "accelerator": "TPU",
  "colab": {
   "collapsed_sections": [],
   "machine_shape": "hm",
   "name": "ColabCreatePatches.ipynb",
   "provenance": []
  },
  "kernelspec": {
   "display_name": "Python 3",
   "language": "python",
   "name": "python3"
  },
  "language_info": {
   "codemirror_mode": {
    "name": "ipython",
    "version": 3
   },
   "file_extension": ".py",
   "mimetype": "text/x-python",
   "name": "python",
   "nbconvert_exporter": "python",
   "pygments_lexer": "ipython3",
   "version": "3.7.4"
  },
  "toc": {
   "base_numbering": 1,
   "nav_menu": {},
   "number_sections": false,
   "sideBar": false,
   "skip_h1_title": false,
   "title_cell": "Table of Contents",
   "title_sidebar": "Contents",
   "toc_cell": false,
   "toc_position": {},
   "toc_section_display": false,
   "toc_window_display": false
  }
 },
 "nbformat": 4,
 "nbformat_minor": 1
}
