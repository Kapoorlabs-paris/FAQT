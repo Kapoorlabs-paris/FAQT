{
 "cells": [
  {
   "cell_type": "code",
   "execution_count": 3,
   "metadata": {},
   "outputs": [],
   "source": [
    "\n",
    "import os\n",
    "import glob\n",
    "import sys\n",
    "sys.path.append('../../')\n",
    "from tifffile import imread, imwrite\n",
    "import numpy as np\n",
    "from tqdm import tqdm\n",
    "from faqt import Augmentation2D\n",
    "from pathlib import Path"
   ]
  },
  {
   "cell_type": "code",
   "execution_count": 10,
   "metadata": {},
   "outputs": [],
   "source": [
    "ImageDir =  '/home/sancere/Kepler//CurieTrainingDatasets/Dalmiro_Laura/VeinTrainingData/Original/'\n",
    "LabelDir = '/home/sancere/Kepler/CurieTrainingDatasets/Dalmiro_Laura/VeinTrainingData/BinaryMask/'\n",
    "\n"
   ]
  },
  {
   "cell_type": "code",
   "execution_count": 11,
   "metadata": {},
   "outputs": [
    {
     "name": "stdout",
     "output_type": "stream",
     "text": [
      "(8,) (8,)\n"
     ]
    }
   ],
   "source": [
    "Raw_path = os.path.join(ImageDir, '*tif')\n",
    "filesRaw = glob.glob(Raw_path)\n",
    "filesRaw.sort\n",
    "\n",
    "Label_path = os.path.join(LabelDir, '*tif')\n",
    "filesLabel = glob.glob(Label_path)\n",
    "filesLabel.sort\n",
    "\n",
    "Data = []\n",
    "Label = []\n",
    "for fname in filesRaw:\n",
    "    for secondfname in filesLabel:\n",
    "\n",
    "        Name = os.path.basename(os.path.splitext(fname)[0])\n",
    "        LabelName = os.path.basename(os.path.splitext(secondfname)[0])\n",
    "        if Name == LabelName:\n",
    "            image = imread(fname)\n",
    "            Data.append(image)\n",
    "            labelimage = imread(secondfname)\n",
    "            Label.append(labelimage)   \n",
    "\n",
    "Data = np.asarray(Data)\n",
    "Label = np.asarray(Label)\n",
    "print(Data.shape, Label.shape)   \n",
    "\n"
   ]
  },
  {
   "cell_type": "code",
   "execution_count": null,
   "metadata": {},
   "outputs": [],
   "source": [
    "#Shift the image and label pair along axis 1 (x axis)\n",
    "AugmentData = Augmentation2D(rotate_axis=1, rotate_angle = 20)\n",
    "AugImageLabel = AugmentData.build(data=Data, label=Label, batch_size = Data.shape[0])"
   ]
  },
  {
   "cell_type": "code",
   "execution_count": null,
   "metadata": {},
   "outputs": [],
   "source": [
    "#Save the shifts\n",
    "AugPair = np.asarray(next(AugImageLabel))\n",
    "Count = 0\n",
    "for i in range(0, AugPair.shape[1]):\n",
    "     Name = 'Rotate20' + str(Count)\n",
    "     imwrite(ImageDir + '/' + Name + '.tif', AugPair[0,i,:,:].astype('float32'))\n",
    "     imwrite(LabelDir + '/' + Name + '.tif', AugPair[1,i,:,:].astype('uint8'))\n",
    "     Count = Count + 1"
   ]
  },
  {
   "cell_type": "code",
   "execution_count": null,
   "metadata": {},
   "outputs": [],
   "source": [
    "#Shift the image and label pair along axis 1 (x axis)\n",
    "AugmentData = Augmentation2D(rotate_axis=1, rotate_angle = 80)\n",
    "AugImageLabel = AugmentData.build(data=Data, label=Label, batch_size = Data.shape[0])"
   ]
  },
  {
   "cell_type": "code",
   "execution_count": null,
   "metadata": {},
   "outputs": [],
   "source": [
    "#Save the shifts\n",
    "AugPair = np.asarray(next(AugImageLabel))\n",
    "Count = 0\n",
    "for i in range(0, AugPair.shape[1]):\n",
    "     Name = 'Rotate80' + str(Count)\n",
    "     imwrite(ImageDir + '/' + Name + '.tif', AugPair[0,i,:,:].astype('float32'))\n",
    "     imwrite(LabelDir + '/' + Name + '.tif', AugPair[1,i,:,:].astype('uint8'))\n",
    "     Count = Count + 1"
   ]
  },
  {
   "cell_type": "code",
   "execution_count": null,
   "metadata": {},
   "outputs": [],
   "source": [
    "#Shift the image and label pair along axis 1 (x axis)\n",
    "AugmentData = Augmentation2D(shift_axis=1, shift_range = 1)\n",
    "AugImageLabel = AugmentData.build(data=Data, label=Label, batch_size = Data.shape[0])\n",
    "\n"
   ]
  },
  {
   "cell_type": "code",
   "execution_count": null,
   "metadata": {},
   "outputs": [],
   "source": [
    "#Save the shifts\n",
    "AugPair = np.asarray(next(AugImageLabel))\n",
    "Count = 0\n",
    "for i in range(0, AugPair.shape[1]):\n",
    "     Name = 'Shift' + str(Count)\n",
    "     imwrite(ImageDir + '/' + Name + '.tif', AugPair[0,i,:,:].astype('float32'))\n",
    "     imwrite(LabelDir + '/' + Name + '.tif', AugPair[1,i,:,:].astype('uint8'))\n",
    "     Count = Count + 1"
   ]
  },
  {
   "cell_type": "code",
   "execution_count": null,
   "metadata": {},
   "outputs": [],
   "source": [
    "#Shift the image and label pair along axis 1 (x axis)\n",
    "AugmentData = Augmentation2D(shift_axis=1, shift_range = -1)\n",
    "AugImageLabel = AugmentData.build(data=Data, label=Label, batch_size = Data.shape[0])"
   ]
  },
  {
   "cell_type": "code",
   "execution_count": null,
   "metadata": {},
   "outputs": [],
   "source": [
    "#Save the shifts\n",
    "AugPair = np.asarray(next(AugImageLabel))\n",
    "Count = 0\n",
    "for i in range(0, AugPair.shape[1]):\n",
    "     Name = 'ShiftNeg' + str(Count)\n",
    "     imwrite(ImageDir + '/' + Name + '.tif', AugPair[0,i,:,:].astype('float32'))\n",
    "     imwrite(LabelDir + '/' + Name + '.tif', AugPair[1,i,:,:].astype('uint8'))\n",
    "     Count = Count + 1"
   ]
  },
  {
   "cell_type": "code",
   "execution_count": null,
   "metadata": {},
   "outputs": [],
   "source": [
    "#Flip the image and label pair along axis 1 (x axis)\n",
    "AugmentData = Augmentation2D(flip_axis=1)\n",
    "AugImageLabel = AugmentData.build(data=Data, label=Label, batch_size = Data.shape[0])\n"
   ]
  },
  {
   "cell_type": "code",
   "execution_count": null,
   "metadata": {},
   "outputs": [],
   "source": [
    "#Save the flips\n",
    "AugPair = np.asarray(next(AugImageLabel))\n",
    "Count = 0\n",
    "for i in range(0, AugPair.shape[1]):\n",
    "     Name = 'Flip' + str(Count)\n",
    "     imwrite(ImageDir + '/' + Name + '.tif', AugPair[0,i,:,:].astype('float32'))\n",
    "     imwrite(LabelDir + '/' + Name + '.tif', AugPair[1,i,:,:].astype('uint8'))\n",
    "     Count = Count + 1"
   ]
  }
 ],
 "metadata": {
  "kernelspec": {
   "display_name": "Python 3 (ipykernel)",
   "language": "python",
   "name": "python3"
  },
  "language_info": {
   "codemirror_mode": {
    "name": "ipython",
    "version": 3
   },
   "file_extension": ".py",
   "mimetype": "text/x-python",
   "name": "python",
   "nbconvert_exporter": "python",
   "pygments_lexer": "ipython3",
   "version": "3.7.10"
  }
 },
 "nbformat": 4,
 "nbformat_minor": 4
}
