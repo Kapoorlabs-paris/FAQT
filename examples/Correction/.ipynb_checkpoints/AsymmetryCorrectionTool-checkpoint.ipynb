{
 "cells": [
  {
   "cell_type": "code",
   "execution_count": null,
   "metadata": {},
   "outputs": [],
   "source": [
    "import os\n",
    "import glob\n",
    "from tifffile import imread, imwrite\n",
    "import napari\n",
    "from faqt.helpers import AsymmetryComputer\n"
   ]
  },
  {
   "cell_type": "code",
   "execution_count": null,
   "metadata": {},
   "outputs": [],
   "source": [
    "Masterdir =  '/media/sancere/Newton_Volume_1/DalmiroAnalysis/UnRotated/'\n",
    "MaskResults =  '/media/sancere/Newton_Volume_1/DalmiroAnalysis/UnRotated/MaskResults/'\n",
    "\n",
    "AsymmetryResults = Masterdir + '/AsymmetryResults/'\n",
    "AsymmetryResultsName = 'Asymmetry'\n",
    "\n",
    "computeAssymetry = True"
   ]
  },
  {
   "cell_type": "code",
   "execution_count": null,
   "metadata": {
    "scrolled": false
   },
   "outputs": [],
   "source": [
    "Raw_path = os.path.join(Masterdir, '*tif')\n",
    "Left_path = os.path.join(MaskResults, '*tif')\n",
    "filesRaw = glob.glob(Raw_path)\n",
    "filesRaw.sort\n",
    "filesLeft = glob.glob(Left_path)\n",
    "filesLeft.sort\n",
    "\n",
    "axes = 'YX'\n",
    "saveaxes = 'YX'\n",
    "#Path(OverlayResults).mkdir(exist_ok = True)\n",
    "RawImages = []\n",
    "LeftImages = []\n",
    "Name = []\n",
    "count = 0\n",
    "for fname in filesRaw:\n",
    "  for secondname in filesLeft:\n",
    "    if os.path.basename(os.path.splitext(secondname)[0]) == os.path.basename(os.path.splitext(fname)[0]):\n",
    "            image = imread(fname)\n",
    "            Leftimage = imread(secondname)\n",
    "            RawImages.append(image)\n",
    "            LeftImages.append(Leftimage.astype('uint16'))\n",
    "            Name.append(os.path.basename(os.path.splitext(fname)[0]))\n",
    "            \n",
    "with napari.gui_qt():\n",
    "   \n",
    "    # initialise viewer with Left wing image\n",
    "    viewer = napari.view_image(np.asarray(RawImages), name='Wings', rgb=True)\n",
    "\n",
    "    # add the labels\n",
    "    label_layer = viewer.add_labels(np.asarray(LeftImages), name='segmentation')  \n",
    "    \n",
    "\n",
    "    \n",
    "ModifiedArray = viewer.layers['segmentation'].data \n",
    "\n",
    "for i in range(0, ModifiedArray.shape[0]):\n",
    "     imwrite((MaskResults + Name[i] + '.tif' ) , ModifiedArray[i].astype('uint8'))\n",
    "\n",
    "\n",
    "AsymmetryComputer(MaskResults,AsymmetryResults,AsymmetryResultsName, computeAssymetry = computeAssymetry)\n",
    "\n",
    "\n"
   ]
  }
 ],
 "metadata": {
  "kernelspec": {
   "display_name": "Python 3",
   "language": "python",
   "name": "python3"
  },
  "language_info": {
   "codemirror_mode": {
    "name": "ipython",
    "version": 3
   },
   "file_extension": ".py",
   "mimetype": "text/x-python",
   "name": "python",
   "nbconvert_exporter": "python",
   "pygments_lexer": "ipython3",
   "version": "3.7.4"
  }
 },
 "nbformat": 4,
 "nbformat_minor": 2
}
