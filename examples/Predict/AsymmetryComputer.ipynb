{
 "cells": [
  {
   "cell_type": "code",
   "execution_count": 1,
   "metadata": {
    "colab": {
     "base_uri": "https://localhost:8080/"
    },
    "id": "rBQjHcnc2zBc",
    "outputId": "04bd88a0-9cb9-4727-c3f1-329db6019055"
   },
   "outputs": [
    {
     "name": "stderr",
     "output_type": "stream",
     "text": [
      "Using TensorFlow backend.\n"
     ]
    }
   ],
   "source": [
    "import sys\n",
    "import os\n",
    "os.environ[\"CUDA_VISIBLE_DEVICES\"]=\"0\"\n",
    "import glob\n",
    "from csbdeep.models import Config, CARE\n",
    "from faqt.helpers import doubleplot, WingArea, OrientationArea"
   ]
  },
  {
   "cell_type": "code",
   "execution_count": null,
   "metadata": {},
   "outputs": [],
   "source": [
    "Masterdir = '/media/sancere/Newton_Volume_1/DalmiroAnalysis/'\n",
    "Savedir = '/media/sancere/Newton_Volume_1/DalmiroAnalysis/NewUnRotated/'\n",
    "Modeldir = '/home/sancere/Kepler/CurieDeepLearningModels/'\n",
    "Wingsegmentationmodel = 'DeepWingSegmentationModelUNET'\n",
    "Wingcompartmentsegmentationmodel = None\n",
    "\n",
    "UnetModel = CARE(config = None, name = Wingsegmentationmodel, basedir = Modeldir)\n",
    "if Wingcompartmentsegmentationmodel is not None:\n",
    "   UnetCompartmentModel = CARE(config = None, name = Wingcompartmentsegmentationmodel, basedir = Modeldir)\n",
    "else:\n",
    "   UnetCompartmentModel = None "
   ]
  },
  {
   "cell_type": "markdown",
   "metadata": {},
   "source": [
    "# Parameters to be used for FAQT"
   ]
  },
  {
   "cell_type": "code",
   "execution_count": null,
   "metadata": {},
   "outputs": [],
   "source": [
    "#Display image every nth time n being\n",
    "show_after = 100\n",
    "#Wether to flip the image or just roatate it\n",
    "flip = True\n",
    "#minimum size of the wing, exclude small segmentation mistakes below these pixels\n",
    "min_size = 15000\n",
    "computeAssymetry = True"
   ]
  },
  {
   "cell_type": "code",
   "execution_count": null,
   "metadata": {
    "scrolled": false
   },
   "outputs": [],
   "source": [
    "Raw_path = os.path.join(Masterdir, '*tif')\n",
    "filesRaw = glob.glob(Raw_path)\n",
    "\n",
    "OrientationArea(filesRaw, UnetModel, Savedir, show_after = show_after, min_size = min_size, flip = flip,\n",
    "                UnetCompartmentModel = UnetCompartmentModel, computeAssymetry = computeAssymetry)\n"
   ]
  }
 ],
 "metadata": {
  "accelerator": "TPU",
  "colab": {
   "collapsed_sections": [],
   "machine_shape": "hm",
   "name": "FAQT.ipynb",
   "provenance": []
  },
  "kernelspec": {
   "display_name": "Python 3",
   "language": "python",
   "name": "python3"
  },
  "language_info": {
   "codemirror_mode": {
    "name": "ipython",
    "version": 3
   },
   "file_extension": ".py",
   "mimetype": "text/x-python",
   "name": "python",
   "nbconvert_exporter": "python",
   "pygments_lexer": "ipython3",
   "version": "3.7.4"
  },
  "toc": {
   "base_numbering": 1,
   "nav_menu": {},
   "number_sections": false,
   "sideBar": false,
   "skip_h1_title": false,
   "title_cell": "Table of Contents",
   "title_sidebar": "Contents",
   "toc_cell": false,
   "toc_position": {},
   "toc_section_display": false,
   "toc_window_display": false
  }
 },
 "nbformat": 4,
 "nbformat_minor": 1
}
