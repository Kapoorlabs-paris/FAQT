{
 "cells": [
  {
   "cell_type": "code",
   "execution_count": 1,
   "metadata": {
    "colab": {
     "base_uri": "https://localhost:8080/"
    },
    "id": "rBQjHcnc2zBc",
    "outputId": "04bd88a0-9cb9-4727-c3f1-329db6019055"
   },
   "outputs": [
    {
     "name": "stderr",
     "output_type": "stream",
     "text": [
      "Using TensorFlow backend.\n"
     ]
    }
   ],
   "source": [
    "import sys\n",
    "sys.path.append(\"../../\")\n",
    "import os\n",
    "os.environ[\"CUDA_VISIBLE_DEVICES\"]=\"2\"\n",
    "import glob\n",
    "from csbdeep.models import Config, CARE\n",
    "from faqt.helpers import UNETPrediction\n",
    "from tifffile import imread"
   ]
  },
  {
   "cell_type": "code",
   "execution_count": 5,
   "metadata": {},
   "outputs": [
    {
     "name": "stdout",
     "output_type": "stream",
     "text": [
      "Loading network weights from 'weights_best.h5'.\n"
     ]
    }
   ],
   "source": [
    "Masterdir = '/media/sancere/Newton_Volume_1/DalmiroAnalysis/'\n",
    "Savedir = '/media/sancere/Newton_Volume_1/DalmiroAnalysis/NewUnRotated/'\n",
    "Modeldir = '/home/sancere/Kepler/CurieDeepLearningModels/Dalmiro_Laura/'\n",
    "Hairsegmentationmodel = 'WingVeinUNET'\n",
    "\n",
    "\n",
    "UnetModel = CARE(config = None, name = Hairsegmentationmodel, basedir = Modeldir)\n"
   ]
  },
  {
   "cell_type": "markdown",
   "metadata": {},
   "source": [
    "# Parameters to be used for FAQT"
   ]
  },
  {
   "cell_type": "code",
   "execution_count": 8,
   "metadata": {},
   "outputs": [],
   "source": [
    "axis = 'YXC'\n",
    "#minimum size of the wing, exclude small segmentation mistakes below these pixels\n",
    "min_size = 1500\n",
    "#Display image every nth time n being\n",
    "show_after = 100\n",
    "n_tiles = (1,1,1)"
   ]
  },
  {
   "cell_type": "code",
   "execution_count": null,
   "metadata": {
    "scrolled": false
   },
   "outputs": [
    {
     "name": "stdout",
     "output_type": "stream",
     "text": [
      "Applying UNET prediction\n",
      "(768, 1024, 3)\n",
      "Applying UNET prediction\n",
      "(768, 1024, 3)\n",
      "Applying UNET prediction\n",
      "(768, 1024, 3)\n",
      "Applying UNET prediction\n",
      "(768, 1024, 3)\n",
      "Applying UNET prediction\n",
      "(768, 1024, 3)\n",
      "Applying UNET prediction\n",
      "(768, 1024, 3)\n",
      "Applying UNET prediction\n",
      "(768, 1024, 3)\n",
      "Applying UNET prediction\n",
      "(768, 1024, 3)\n",
      "Applying UNET prediction\n",
      "(768, 1024, 3)\n",
      "Applying UNET prediction\n",
      "(768, 1024, 3)\n",
      "Applying UNET prediction\n",
      "(768, 1024, 3)\n",
      "Applying UNET prediction\n",
      "(768, 1024, 3)\n",
      "Applying UNET prediction\n",
      "(768, 1024, 3)\n",
      "Applying UNET prediction\n",
      "(768, 1024, 3)\n",
      "Applying UNET prediction\n",
      "(768, 1024, 3)\n",
      "Applying UNET prediction\n",
      "(768, 1024, 3)\n",
      "Applying UNET prediction\n",
      "(768, 1024, 3)\n",
      "Applying UNET prediction\n",
      "(768, 1024, 3)\n",
      "Applying UNET prediction\n",
      "(768, 1024, 3)\n",
      "Applying UNET prediction\n",
      "(768, 1024, 3)\n",
      "Applying UNET prediction\n",
      "(768, 1024, 3)\n",
      "Applying UNET prediction\n",
      "(768, 1024, 3)\n",
      "Applying UNET prediction\n",
      "(768, 1024, 3)\n",
      "Applying UNET prediction\n",
      "(768, 1024, 3)\n",
      "Applying UNET prediction\n",
      "(768, 1024, 3)\n",
      "Applying UNET prediction\n",
      "(768, 1024, 3)\n",
      "Applying UNET prediction\n",
      "(768, 1024, 3)\n",
      "Applying UNET prediction\n",
      "(768, 1024, 3)\n",
      "Applying UNET prediction\n",
      "(768, 1024, 3)\n",
      "Applying UNET prediction\n",
      "(768, 1024, 3)\n",
      "Applying UNET prediction\n",
      "(768, 1024, 3)\n",
      "Applying UNET prediction\n",
      "(768, 1024, 3)\n",
      "Applying UNET prediction\n",
      "(768, 1024, 3)\n",
      "Applying UNET prediction\n",
      "(768, 1024, 3)\n",
      "Applying UNET prediction\n",
      "(768, 1024, 3)\n",
      "Applying UNET prediction\n",
      "(768, 1024, 3)\n",
      "Applying UNET prediction\n",
      "(768, 1024, 3)\n",
      "Applying UNET prediction\n",
      "(768, 1024, 3)\n",
      "Applying UNET prediction\n",
      "(768, 1024, 3)\n",
      "Applying UNET prediction\n",
      "(768, 1024, 3)\n",
      "Applying UNET prediction\n",
      "(768, 1024, 3)\n",
      "Applying UNET prediction\n",
      "(768, 1024, 3)\n",
      "Applying UNET prediction\n",
      "(768, 1024, 3)\n",
      "Applying UNET prediction\n",
      "(768, 1024, 3)\n",
      "Applying UNET prediction\n",
      "(768, 1024, 3)\n",
      "Applying UNET prediction\n",
      "(768, 1024, 3)\n",
      "Applying UNET prediction\n",
      "(768, 1024, 3)\n",
      "Applying UNET prediction\n",
      "(768, 1024, 3)\n",
      "Applying UNET prediction\n",
      "(768, 1024, 3)\n",
      "Applying UNET prediction\n",
      "(768, 1024, 3)\n",
      "Applying UNET prediction\n",
      "(768, 1024, 3)\n",
      "Applying UNET prediction\n",
      "(768, 1024, 3)\n",
      "Applying UNET prediction\n",
      "(768, 1024, 3)\n",
      "Applying UNET prediction\n",
      "(768, 1024, 3)\n",
      "Applying UNET prediction\n",
      "(768, 1024, 3)\n",
      "Applying UNET prediction\n",
      "(768, 1024, 3)\n",
      "Applying UNET prediction\n",
      "(768, 1024, 3)\n",
      "Applying UNET prediction\n",
      "(768, 1024, 3)\n",
      "Applying UNET prediction\n",
      "(768, 1024, 3)\n",
      "Applying UNET prediction\n",
      "(768, 1024, 3)\n",
      "Applying UNET prediction\n",
      "(768, 1024, 3)\n",
      "Applying UNET prediction\n",
      "(768, 1024, 3)\n",
      "Applying UNET prediction\n",
      "(768, 1024, 3)\n",
      "Applying UNET prediction\n",
      "(768, 1024, 3)\n",
      "Applying UNET prediction\n",
      "(768, 1024, 3)\n",
      "Applying UNET prediction\n",
      "(768, 1024, 3)\n",
      "Applying UNET prediction\n",
      "(768, 1024, 3)\n",
      "Applying UNET prediction\n",
      "(768, 1024, 3)\n",
      "Applying UNET prediction\n",
      "(768, 1024, 3)\n",
      "Applying UNET prediction\n",
      "(768, 1024, 3)\n",
      "Applying UNET prediction\n",
      "(768, 1024, 3)\n",
      "Applying UNET prediction\n",
      "(768, 1024, 3)\n",
      "Applying UNET prediction\n",
      "(768, 1024, 3)\n",
      "Applying UNET prediction\n",
      "(768, 1024, 3)\n",
      "Applying UNET prediction\n",
      "(768, 1024, 3)\n",
      "Applying UNET prediction\n",
      "(768, 1024, 3)\n",
      "Applying UNET prediction\n",
      "(768, 1024, 3)\n",
      "Applying UNET prediction\n",
      "(768, 1024, 3)\n"
     ]
    }
   ],
   "source": [
    "Raw_path = os.path.join(Masterdir, '*tif')\n",
    "filesRaw = glob.glob(Raw_path)\n",
    "\n",
    "UNETPrediction(filesRaw, UnetModel,Savedir, min_size, n_tiles, axis,show_after = show_after )\n"
   ]
  },
  {
   "cell_type": "code",
   "execution_count": null,
   "metadata": {},
   "outputs": [],
   "source": []
  }
 ],
 "metadata": {
  "accelerator": "TPU",
  "colab": {
   "collapsed_sections": [],
   "machine_shape": "hm",
   "name": "FAQT.ipynb",
   "provenance": []
  },
  "kernelspec": {
   "display_name": "Python 3",
   "language": "python",
   "name": "python3"
  },
  "language_info": {
   "codemirror_mode": {
    "name": "ipython",
    "version": 3
   },
   "file_extension": ".py",
   "mimetype": "text/x-python",
   "name": "python",
   "nbconvert_exporter": "python",
   "pygments_lexer": "ipython3",
   "version": "3.7.4"
  },
  "toc": {
   "base_numbering": 1,
   "nav_menu": {},
   "number_sections": false,
   "sideBar": false,
   "skip_h1_title": false,
   "title_cell": "Table of Contents",
   "title_sidebar": "Contents",
   "toc_cell": false,
   "toc_position": {},
   "toc_section_display": false,
   "toc_window_display": false
  }
 },
 "nbformat": 4,
 "nbformat_minor": 1
}
