{
 "cells": [
  {
   "cell_type": "code",
   "execution_count": 4,
   "metadata": {},
   "outputs": [],
   "source": [
    "\n",
    "import sys\n",
    "import os\n",
    "import cv2\n",
    "import numpy as np\n",
    "import difflib\n",
    "import matplotlib.pyplot as plt\n",
    "import glob\n",
    "from tifffile import imread, imwrite\n",
    "\n",
    "import napari\n",
    "\n",
    "from Utils.helpers import Prob_to_Binary, zero_pad_color, multiplot,WingArea, multiplotline\n",
    "import tifffile\n",
    "try:\n",
    "    from pathlib import Path\n",
    "    Path().expanduser()\n",
    "except (ImportError,AttributeError):\n",
    "    from pathlib2 import Path\n"
   ]
  },
  {
   "cell_type": "code",
   "execution_count": 8,
   "metadata": {},
   "outputs": [],
   "source": [
    "\n",
    "Masterdir = '/Users/aimachine/Downloads/Images_For_FAQT'\n",
    "\n",
    "\n",
    "\n",
    "MaskResults = Masterdir + '/MaskResults/'\n",
    "\n",
    "\n",
    "\n",
    "\n",
    "AreaResults = Masterdir + '/AreaResults/'\n",
    "AreaResultsName = 'Area'\n",
    "\n"
   ]
  },
  {
   "cell_type": "code",
   "execution_count": 11,
   "metadata": {
    "scrolled": false
   },
   "outputs": [],
   "source": [
    "Raw_path = os.path.join(Masterdir, '*tif')\n",
    "Left_path = os.path.join(MaskResults, '*tif')\n",
    "\n",
    "axes = 'YX'\n",
    "saveaxes = 'YX'\n",
    "filesRaw = glob.glob(Raw_path)\n",
    "filesRaw.sort\n",
    "filesLeft = glob.glob(Left_path)\n",
    "filesLeft.sort\n",
    "RawImages = []\n",
    "LeftImages = []\n",
    "Name = []\n",
    "for fname in filesRaw:\n",
    "  for secondname in filesLeft:\n",
    "    if os.path.basename(os.path.splitext(secondname)[0]) == 'Mask' + os.path.basename(os.path.splitext(fname)[0]):\n",
    "            image = imread(fname)\n",
    "            \n",
    "            Leftimage = imread(secondname) \n",
    "            RawImages.append(image)\n",
    "            LeftImages.append(Leftimage)\n",
    "            Name.append(os.path.basename(os.path.splitext(fname)[0]))\n",
    "           \n",
    "with napari.gui_qt():\n",
    "   \n",
    "    # initialise viewer with Left wing image\n",
    "    viewer = napari.view_image(np.asarray(RawImages), name='Wings', rgb=True)\n",
    "\n",
    "    # add the labels\n",
    "    label_layer = viewer.add_labels(np.asarray(LeftImages), name='segmentation')  \n",
    "    \n",
    "    images = [] \n",
    "    for i in range(len(filesRaw)):\n",
    "           viewer.dims.set_point(axis=0, value=i)\n",
    "           images.append(viewer.screenshot())\n",
    "    tifffile.imsave(MaskResults + 'Overlays' + '.tif', np.asarray(images))\n",
    "ModifiedArray = viewer.layers['segmentation'].data \n",
    "\n",
    "for i in range(0, ModifiedArray.shape[0]):\n",
    "    \n",
    "     imwrite((MaskResults + 'Mask' + Name[i] + '.tif' ) , ModifiedArray[i].astype('uint8'))   \n",
    "        \n",
    "        \n",
    "df = pd.DataFrame(list(zip(AllArea)), index =AllName, \n",
    "                                              columns =['Area'])\n",
    "\n",
    "df.to_csv(AreaResults + '/' + AreaResultsName +  '.csv')  \n",
    "df         "
   ]
  }
 ],
 "metadata": {
  "kernelspec": {
   "display_name": "tensorflowEnv36",
   "language": "python",
   "name": "myenv"
  },
  "language_info": {
   "codemirror_mode": {
    "name": "ipython",
    "version": 3
   },
   "file_extension": ".py",
   "mimetype": "text/x-python",
   "name": "python",
   "nbconvert_exporter": "python",
   "pygments_lexer": "ipython3",
   "version": "3.6.9"
  }
 },
 "nbformat": 4,
 "nbformat_minor": 2
}
