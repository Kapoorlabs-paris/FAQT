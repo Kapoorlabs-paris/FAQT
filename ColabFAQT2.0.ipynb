{
 "cells": [
  {
   "cell_type": "code",
   "execution_count": null,
   "metadata": {},
   "outputs": [],
   "source": [
    "from google.colab import drive\n",
    "drive.mount('/content/drive', force_remount = True)\n",
    "%tensorflow_version 1.x"
   ]
  },
  {
   "cell_type": "code",
   "execution_count": null,
   "metadata": {},
   "outputs": [],
   "source": [
    "!pip install tiffile\n",
    "!pip install csbdeep\n",
    "!pip install keras==2.2.5\n",
    "!pip install cdifflib\n",
    "!pip install scikit-image"
   ]
  },
  {
   "cell_type": "code",
   "execution_count": null,
   "metadata": {
    "colab": {
     "base_uri": "https://localhost:8080/"
    },
    "id": "rBQjHcnc2zBc",
    "outputId": "04bd88a0-9cb9-4727-c3f1-329db6019055"
   },
   "outputs": [],
   "source": [
    "%cd '/content/drive/My Drive/'\n",
    "import sys\n",
    "import os\n",
    "os.environ[\"CUDA_VISIBLE_DEVICES\"]=\"0\"\n",
    "from csbdeep.utils import Path, normalize\n",
    "import numpy as np\n",
    "import matplotlib.pyplot as plt\n",
    "import glob\n",
    "from tifffile import imread, imwrite\n",
    "from skimage.morphology import remove_small_objects\n",
    "from csbdeep.utils import Path, normalize\n",
    "from csbdeep.models import Config, CARE\n",
    "import pandas as pd\n",
    "import difflib\n",
    "from matplotlib import cm\n",
    "from skimage.filters import threshold_otsu\n",
    "import numpy as np\n",
    "import skimage\n",
    "from skimage import transform\n",
    "from scipy.ndimage.morphology import binary_fill_holes\n",
    "from pathlib import Path\n",
    "from skimage.filters import sobel\n",
    "from skimage.util import invert\n",
    "from skimage.measure import label\n",
    "from PIL import Image"
   ]
  },
  {
   "cell_type": "code",
   "execution_count": null,
   "metadata": {},
   "outputs": [],
   "source": [
    "Masterdir = '/content/drive/My Drive/R/'\n",
    "Savedir = '/content/drive/My Drive/UnRotated/'\n",
    "Model_Dir = '/content/drive/My Drive/SegmentationModel/'\n",
    "UNETSegmentationModelName = 'DeepWingSegmentationModelUNET'\n",
    "\n",
    "UnetModel = CARE(config = None, name = UNETSegmentationModelName, basedir = Model_Dir)\n",
    "Path(Savedir).mkdir(exist_ok = True)\n",
    "\n",
    "LeftName = 'L'\n",
    "RightName = 'R'\n",
    "show_after = 100\n",
    "MaskResults = Savedir + '/MaskResults/'\n",
    "AsymmetryResults = Savedir + '/AsymmetryResults/'\n",
    "AsymmetryResultsName = 'Asymmetry'\n",
    "Path(MaskResults).mkdir(exist_ok = True)\n",
    "Path(AsymmetryResults).mkdir(exist_ok = True)"
   ]
  },
  {
   "cell_type": "markdown",
   "metadata": {
    "id": "qWzxxp-hZaAs"
   },
   "source": [
    "**Hello, You only have to change one thing in this code which is the Masterdir, here you specify the path to the directory where your images are. After that you can do Cell Run all/ Kernel restart run all from the menu above to run the code**"
   ]
  },
  {
   "cell_type": "code",
   "execution_count": null,
   "metadata": {
    "colab": {
     "base_uri": "https://localhost:8080/"
    },
    "id": "3z7zSBDo2xNK",
    "outputId": "f430a732-6d53-489d-fcc4-8957e74efc42"
   },
   "outputs": [],
   "source": [
    "def doubleplot(imageA, imageB, titleA, titleB, targetdir = None, File = None, plotTitle = None):\n",
    "    fig, axes = plt.subplots(1, 2, figsize=(15, 6))\n",
    "    ax = axes.ravel()\n",
    "    ax[0].imshow(imageA, cmap=cm.gray)\n",
    "    ax[0].set_title(titleA)\n",
    "    ax[0].set_axis_off()\n",
    "    ax[1].imshow(imageB, cmap=plt.cm.nipy_spectral)\n",
    "    ax[1].set_title(titleB)\n",
    "    ax[1].set_axis_off()\n",
    "\n",
    "    plt.tight_layout()\n",
    "    plt.show()\n",
    "    for a in ax:\n",
    "      a.set_axis_off() "
   ]
  },
  {
   "cell_type": "code",
   "execution_count": null,
   "metadata": {},
   "outputs": [],
   "source": [
    "Raw_path = os.path.join(Masterdir, '*tiff')\n",
    "filesRaw = glob.glob(Raw_path)\n",
    "filesRaw.sort\n",
    "axes = 'YXC'\n",
    "count = 0\n",
    "min_size = 15000\n",
    "for fname in filesRaw:\n",
    "            \n",
    "           #Read image  \n",
    "            Name = os.path.basename(os.path.splitext(fname)[0])\n",
    "            \n",
    "            if Name not in Done:\n",
    "                try:\n",
    "                    image = imread(fname)\n",
    "\n",
    "\n",
    "                    image = image[:,:,0:3]\n",
    "                    #DO the segmentation\n",
    "                    Segmented = UnetModel.predict(image,axes)\n",
    "                    thresh = threshold_otsu(Segmented) \n",
    "                    Binary = Segmented > thresh\n",
    "                    Filled = binary_fill_holes(Binary)\n",
    "                    Finalimage = remove_small_objects(Filled, min_size)\n",
    "                    Finalimage = Finalimage[:,:,0]\n",
    "                    y, x = np.nonzero(Finalimage)\n",
    "                    x = x - np.mean(x)\n",
    "                    y = y - np.mean(y)\n",
    "                    coords = np.vstack([x, y])\n",
    "\n",
    "                    cov = np.cov(coords)\n",
    "                    evals, evecs = np.linalg.eig(cov) \n",
    "\n",
    "\n",
    "                    sort_indices = np.argsort(evals)[::-1]\n",
    "                    x_v1, y_v1 = evecs[:, sort_indices[0]]  # Eigenvector with largest eigenvalue\n",
    "                    x_v2, y_v2 = evecs[:, sort_indices[1]]\n",
    "\n",
    "                    #Uncomment lines below to see the eigenvectors\n",
    "                    #scale = 20\n",
    "                    #plt.plot([x_v1*-scale*2, x_v1*scale*2],\n",
    "                            #[y_v1*-scale*2, y_v1*scale*2], color='red')\n",
    "                    #plt.plot([x_v2*-scale, x_v2*scale],\n",
    "                            #[y_v2*-scale, y_v2*scale], color='blue')\n",
    "\n",
    "                    #plt.axis('equal')\n",
    "                    #plt.gca().invert_yaxis()  # Match the image system with origin at top left\n",
    "                    #plt.show()\n",
    "                    theta1 = np.arctan((x_v1)/(y_v1)) \n",
    "                    theta2 = np.arctan((x_v2)/(y_v2)) \n",
    "                    theta2deg = theta2 * 180 / 3.14\n",
    "                    theta1deg = theta1 * 180/  3.14\n",
    "\n",
    "\n",
    "                    rotation_mat = np.matrix([[np.cos(theta2), -np.sin(theta2)],\n",
    "                              [np.sin(theta2), np.cos(theta2)]])\n",
    "                    rotatedimage = transform.rotate(image,-theta2deg, resize = False, mode = \"edge\" )\n",
    "\n",
    "\n",
    "                    #Trial 2\n",
    "                    #DO bad segmentation\n",
    "\n",
    "                    testimage = rotatedimage[:,:,0] \n",
    "                    thresh = threshold_otsu(testimage) \n",
    "                    testimage = testimage > thresh\n",
    "                    testimage = invert(testimage)\n",
    "                    testimage = label(testimage)\n",
    "\n",
    "                    testimage = remove_small_objects(testimage, min_size)\n",
    "                    testimage = testimage > 0\n",
    "\n",
    "\n",
    "\n",
    "                    ySec, xSec = np.nonzero(testimage)\n",
    "                    xSec = xSec - np.mean(xSec)\n",
    "                    ySec = ySec - np.mean(ySec)\n",
    "                    coordsSec = np.vstack([xSec, ySec])\n",
    "\n",
    "                    try:\n",
    "                        covSec = np.cov(coordsSec)\n",
    "                        evalsSec, evecsSec = np.linalg.eig(covSec) \n",
    "\n",
    "\n",
    "                        sort_indicesSec = np.argsort(evalsSec)[::-1]\n",
    "                        x_v1Sec, y_v1Sec = evecsSec[:, sort_indicesSec[0]]  # Eigenvector with largest eigenvalue\n",
    "                        x_v2Sec, y_v2Sec = evecsSec[:, sort_indicesSec[1]]\n",
    "\n",
    "\n",
    "                        theta1Sec = np.arctan((x_v1Sec)/(y_v1Sec)) \n",
    "                        theta2Sec = np.arctan((x_v2Sec)/(y_v2Sec)) \n",
    "                        theta2degSec = theta2Sec * 180 / 3.14\n",
    "                        theta1degSec = theta1Sec * 180/3.14\n",
    "                    except: \n",
    "                            theta2degSec = 0\n",
    "                            theta1degSec = 0\n",
    "\n",
    "                    count = count + 1\n",
    "                    if Name[-1] == 'R'and theta1degSec < 0:\n",
    "                        flippedimage = np.flip(rotatedimage, axis = 0)\n",
    "                        imwrite(Savedir + Name + '.tif', flippedimage)\n",
    "                        if count%show_after == 0:\n",
    "                           doubleplot(image, flippedimage, \"Original\", \"Rotated-and-Flipped\")\n",
    "\n",
    "                    if Name[-1] == 'R'and theta1degSec >= 0:   \n",
    "                        imwrite(Savedir + Name + '.tif', rotatedimage)\n",
    "                        if count%show_after == 0:\n",
    "                            doubleplot(image, rotatedimage, \"Original\", \"Rotated\")    \n",
    "\n",
    "                    if Name[-1] == 'L'and theta1degSec >= 0:\n",
    "                        flippedimage = np.flip(rotatedimage, axis = 0)\n",
    "                        imwrite(Savedir + Name + '.tif', flippedimage)\n",
    "                        if count%show_after == 0:\n",
    "                           doubleplot(image, flippedimage, \"Original\", \"Rotated-and-Flipped\")    \n",
    "\n",
    "                    if Name[-1] == 'L'and theta1degSec < 0:   \n",
    "                        imwrite(Savedir + Name + '.tif', rotatedimage)\n",
    "                        if count%show_after == 0:\n",
    "                            doubleplot(image, rotatedimage, \"Original\", \"Rotated\")\n",
    "                except:\n",
    "                   print(Name) \n",
    "                   pass\n"
   ]
  },
  {
   "cell_type": "code",
   "execution_count": null,
   "metadata": {
    "id": "Emph622h2xNU",
    "scrolled": false
   },
   "outputs": [],
   "source": [
    "#Apply the prediction on wing directory\n",
    "\n",
    "Raw_path = os.path.join(Savedir, '*tif')\n",
    "\n",
    "axes = 'YXC'\n",
    "saveaxes = 'YX'\n",
    "filesRaw = glob.glob(Raw_path)\n",
    "filesRaw.sort\n",
    "count = 0\n",
    "axis_norm = (0,1,2)   # normalize channels independently\n",
    "\n",
    "for fname in filesRaw:\n",
    "            \n",
    "            #Read image        \n",
    "            image = imread(fname)\n",
    "            \n",
    "            originalX = image.shape[0]\n",
    "            originalY = image.shape[1]  \n",
    "            \n",
    "            Name = os.path.basename(os.path.splitext(fname)[0])\n",
    "      \n",
    "          \n",
    "            if Name[-1] == 'L':\n",
    "                image = transform.rotate(image,  180,  resize=False)\n",
    "                image = np.flip(image, axis = 0)\n",
    "            x = image[:,:,0:3]\n",
    "            \n",
    "\n",
    "            #Make sure image is 2D\n",
    "\n",
    "            Segmented = UnetModel.predict(x,axes)\n",
    "            thresh = threshold_otsu(Segmented) \n",
    "            Binary = Segmented > thresh\n",
    "            Filled = binary_fill_holes(Binary)\n",
    "            Finalimage = remove_small_objects(Filled, min_size)\n",
    "     \n",
    "            \n",
    "            \n",
    "            if count%show_after == 0:\n",
    "              doubleplot(image,Finalimage[:,:,0], 'Original', 'UNET', plotTitle = 'Segmentation Result' )\n",
    "            count = count + 1 \n",
    "            imwrite((MaskResults + 'Mask' + Name + '.tif' ) , Finalimage.astype('uint8'))\n"
   ]
  },
  {
   "cell_type": "markdown",
   "metadata": {
    "id": "H5TV3LSkZXEM"
   },
   "source": []
  },
  {
   "cell_type": "code",
   "execution_count": null,
   "metadata": {
    "colab": {
     "base_uri": "https://localhost:8080/",
     "height": 1000
    },
    "id": "YEJ1LMSb2xNa",
    "outputId": "9a57269f-9c52-4b39-e94f-d8f8a8a6f183"
   },
   "outputs": [],
   "source": [
    "import pandas as pd\n",
    "Path(AsymmetryResults).mkdir(exist_ok = True)\n",
    "Raw_pathRight = os.path.join(MaskResults, '*tif')\n",
    "Raw_pathLeft = os.path.join(MaskResults, '*tif')\n",
    "\n",
    "filesRawRight = glob.glob(Raw_pathRight)\n",
    "filesRawLeft = glob.glob(Raw_pathLeft)\n",
    "\n",
    "\n",
    "AllRightArea = []\n",
    "AllLeftArea = []\n",
    "AllRightMinusLeftArea = []\n",
    "AllRightPlusLeftArea = []\n",
    "AllAssymetery = []\n",
    "AllName = []\n",
    "pd.set_option('display.max_rows', 500)\n",
    "pd.set_option('display.max_columns', 500)\n",
    "pd.set_option('display.width', 150)\n",
    "for fnameRight in filesRawRight:\n",
    "    \n",
    "   NameRight = os.path.basename(os.path.splitext(fnameRight)[0]) \n",
    "   imageRight = imread(fnameRight)\n",
    "   for fnameLeft in filesRawLeft:\n",
    "       NameLeft = os.path.basename(os.path.splitext(fnameLeft)[0]) \n",
    "       imageLeft = imread(fnameLeft) \n",
    "       \n",
    "       ChangeName = difflib.ndiff(NameLeft, NameRight)\n",
    "       delta = ''.join(x[0:] for x in ChangeName if x.startswith('- '))\n",
    "       \n",
    "       #ChangeName = NameRight.replace(RightName, LeftName) \n",
    "       if delta == '- L':\n",
    "           print(NameLeft, NameRight)\n",
    "           RightArea, LeftArea, RightMinusLeft, RightPlusLeft, Assymetery = WingArea(imageLeft, imageRight)\n",
    "         \n",
    "           AllName.append(NameLeft)\n",
    "           AllRightArea.append(RightArea)\n",
    "           AllLeftArea.append(LeftArea)\n",
    "           AllRightMinusLeftArea.append(RightMinusLeft)\n",
    "           AllRightPlusLeftArea.append(RightPlusLeft)\n",
    "           AllAssymetery.append(Assymetery)\n",
    "            \n",
    "df = pd.DataFrame(list(zip(AllRightArea,AllLeftArea,AllRightMinusLeftArea,AllRightPlusLeftArea,AllAssymetery)), index =AllName, \n",
    "                                              columns =['RightArea', 'LeftArea', 'Right-Left', 'Right+Left', 'Assymmetery'])\n",
    "\n",
    "df.to_csv(AsymmetryResults + '/' + AsymmetryResultsName +  '.csv')  \n",
    "df"
   ]
  },
  {
   "cell_type": "code",
   "execution_count": null,
   "metadata": {
    "colab": {
     "base_uri": "https://localhost:8080/"
    },
    "id": "k2bbRfSY2xNg",
    "outputId": "b76cd13a-7d3e-4f1c-924f-a3d6e5a5bd60"
   },
   "outputs": [],
   "source": [
    "positivecount = np.sum(df['Assymmetery']>0)\n",
    "negativecount = np.sum(df['Assymmetery']<0)   \n",
    "print('Positive Count' , positivecount)\n",
    "print('Negative Count' , negativecount)"
   ]
  },
  {
   "cell_type": "code",
   "execution_count": null,
   "metadata": {
    "id": "OmRr5L0X2xNl"
   },
   "outputs": [],
   "source": [
    "\n"
   ]
  },
  {
   "cell_type": "code",
   "execution_count": null,
   "metadata": {
    "colab": {
     "base_uri": "https://localhost:8080/",
     "height": 294
    },
    "id": "6K1-RidKK0k3",
    "outputId": "0f036b2d-941b-4039-f19c-11d7ed87f0c4"
   },
   "outputs": [],
   "source": [
    "plt.plot(AllAssymetery)\n",
    "plt.title(\"Asymmetry\")\n",
    "plt.ylabel(\"Asymmetry\")\n",
    "plt.xlabel(\"Filenumber\")\n",
    "plt.show()"
   ]
  },
  {
   "cell_type": "code",
   "execution_count": null,
   "metadata": {
    "id": "zQubzgyqeodz"
   },
   "outputs": [],
   "source": []
  }
 ],
 "metadata": {
  "accelerator": "TPU",
  "colab": {
   "collapsed_sections": [],
   "machine_shape": "hm",
   "name": "FAQT.ipynb",
   "provenance": []
  },
  "kernelspec": {
   "display_name": "Python 3",
   "language": "python",
   "name": "python3"
  },
  "language_info": {
   "codemirror_mode": {
    "name": "ipython",
    "version": 3
   },
   "file_extension": ".py",
   "mimetype": "text/x-python",
   "name": "python",
   "nbconvert_exporter": "python",
   "pygments_lexer": "ipython3",
   "version": "3.7.4"
  },
  "toc": {
   "base_numbering": 1,
   "nav_menu": {},
   "number_sections": false,
   "sideBar": false,
   "skip_h1_title": false,
   "title_cell": "Table of Contents",
   "title_sidebar": "Contents",
   "toc_cell": false,
   "toc_position": {},
   "toc_section_display": false,
   "toc_window_display": false
  }
 },
 "nbformat": 4,
 "nbformat_minor": 1
}
