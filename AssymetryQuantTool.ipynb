{
 "cells": [
  {
   "cell_type": "code",
   "execution_count": null,
   "metadata": {},
   "outputs": [],
   "source": [
    "from google.colab import drive\n",
    "drive.mount('/content/drive', force_remount = True)\n",
    "%tensorflow_version 1.x"
   ]
  },
  {
   "cell_type": "code",
   "execution_count": null,
   "metadata": {},
   "outputs": [],
   "source": [
    "!pip install tiffile\n",
    "!pip install elasticdeform\n",
    "!pip install keras==2.2.5\n",
    "!pip install csbdeep"
   ]
  },
  {
   "cell_type": "code",
   "execution_count": null,
   "metadata": {},
   "outputs": [],
   "source": [
    "%cd '/content/drive/My Drive/FAQT/'\n",
    "import sys\n",
    "import os\n",
    "\n",
    "import difflib\n",
    "from csbdeep.utils import Path, normalize\n",
    "import matplotlib.pyplot as plt\n",
    "from skimage.morphology import remove_small_objects\n",
    "sys.path.append('Utils')\n",
    "import glob\n",
    "import cv2\n",
    "from scipy.ndimage.morphology import binary_fill_holes\n",
    "from tifffile import imread, imwrite\n",
    "from csbdeep.utils import Path, normalize\n",
    "\n",
    "from TerminatorUtils.helpers import multiplot, doubleplot, WingArea\n",
    "from csbdeep.models import Config, CARE\n",
    "from skimage.filters import threshold_otsu\n"
   ]
  },
  {
   "cell_type": "code",
   "execution_count": null,
   "metadata": {},
   "outputs": [],
   "source": [
    "Masterdir = '/content/drive/My Drive/Images_For_FAQT/'\n",
    "\n",
    "\n",
    "LeftName = 'L'\n",
    "RightName = 'R'\n",
    "\n",
    "MaskLeftResults = Masterdir + '/MaskLeftResults/'\n",
    "MaskRightResults = Masterdir + '/MaskRightResults/'\n",
    "\n",
    "AsymmetryResults = Masterdir + '/AsymmetryResults/'\n",
    "AsymmetryResultsName = 'Asymmetry'\n",
    "\n",
    "Model_Dir = '/content/drive/My Drive/SegmentationModel/'\n",
    "\n",
    "UNETSegmentationModelName = 'DeepWingSegmentationModelUNET'\n",
    "\n",
    "UnetModel = CARE(config = None, name = UNETSegmentationModelName, basedir = Model_Dir)"
   ]
  },
  {
   "cell_type": "code",
   "execution_count": null,
   "metadata": {},
   "outputs": [],
   "source": [
    "#Apply the prediction on left wing directory\n",
    "min_size = 15000\n",
    "Raw_path = os.path.join(Masterdir, '*tif')\n",
    "Path(MaskResults).mkdir(exist_ok = True)\n",
    "Path(AreaResults).mkdir(exist_ok = True)\n",
    "axes = 'YXC'\n",
    "saveaxes = 'YX'\n",
    "filesRaw = glob.glob(Raw_path)\n",
    "filesRaw.sort\n",
    "count = 0\n",
    "axis_norm = (0,1,2)   # normalize channels independently\n",
    "\n",
    "AllArea = []\n",
    "AllName = []\n",
    "for fname in filesRaw:\n",
    "          \n",
    "            #Read image        \n",
    "            image = imread(fname)\n",
    "            originalX = image.shape[0]\n",
    "            originalY = image.shape[1]  \n",
    "            \n",
    "            Name = os.path.basename(os.path.splitext(fname)[0])\n",
    "         \n",
    "            x = image\n",
    "            \n",
    "            Segmented = UnetModel.predict(x,axes)\n",
    "            thresh = threshold_otsu(Segmented) \n",
    "            Binary = Segmented > thresh\n",
    "            Filled = binary_fill_holes(Binary)\n",
    "            NoSmall = remove_small_objects(Filled, min_size)\n",
    "            Finalimage = CCLabels(NoSmall)\n",
    "            RightArea, LeftArea, RightMinusLeft, RightPlusLeft, Assymetery = WingArea(Finalimage, Finalimage)\n",
    "            AllArea.append(RightArea)\n",
    "            AllName.append(Name)\n",
    "            \n",
    "            doubleplot(image,Finalimage[:,:,0], 'Original', 'UNET', plotTitle = 'Segmentation Result' )\n",
    "\n",
    "            imwrite((MaskResultsRight + 'Mask' + Name + '.tif' ) , Finalimage.astype('uint8'))\n",
    "            \n",
    "           "
   ]
  },
  {
   "cell_type": "code",
   "execution_count": null,
   "metadata": {},
   "outputs": [],
   "source": [
    "import pandas as pd\n",
    "Path(AsymmetryResults).mkdir(exist_ok = True)\n",
    "Raw_pathRight = os.path.join(MaskResults, '*tif')\n",
    "Raw_pathLeft = os.path.join(MaskResults, '*tif')\n",
    "\n",
    "filesRawRight = glob.glob(Raw_pathRight)\n",
    "filesRawLeft = glob.glob(Raw_pathLeft)\n",
    "\n",
    "\n",
    "AllRightArea = []\n",
    "AllLeftArea = []\n",
    "AllRightMinusLeftArea = []\n",
    "AllRightPlusLeftArea = []\n",
    "AllAssymetery = []\n",
    "AllName = []\n",
    "pd.set_option('display.max_rows', 500)\n",
    "pd.set_option('display.max_columns', 500)\n",
    "pd.set_option('display.width', 150)\n",
    "for fnameRight in filesRawRight:\n",
    "    \n",
    "   NameRight = os.path.basename(os.path.splitext(fnameRight)[0]) \n",
    "   imageRight = imread(fnameRight)\n",
    "   for fnameLeft in filesRawLeft:\n",
    "       NameLeft = os.path.basename(os.path.splitext(fnameLeft)[0]) \n",
    "       imageLeft = imread(fnameLeft) \n",
    "       \n",
    "       ChangeName = difflib.ndiff(NameLeft, NameRight)\n",
    "       delta = ''.join(x[0:] for x in ChangeName if x.startswith('- '))\n",
    "      \n",
    "       #ChangeName = NameRight.replace(RightName, LeftName) \n",
    "       if delta == '- L':\n",
    "           print(NameLeft, NameRight)\n",
    "           RightArea, LeftArea, RightMinusLeft, RightPlusLeft, Assymetery = WingArea(imageLeft, imageRight)\n",
    "         \n",
    "           AllName.append(NameLeft)\n",
    "           AllRightArea.append(RightArea)\n",
    "           AllLeftArea.append(LeftArea)\n",
    "           AllRightMinusLeftArea.append(RightMinusLeft)\n",
    "           AllRightPlusLeftArea.append(RightPlusLeft)\n",
    "           AllAssymetery.append(Assymetery)\n",
    "            \n",
    "df = pd.DataFrame(list(zip(AllRightArea,AllLeftArea,AllRightMinusLeftArea,AllRightPlusLeftArea,AllAssymetery)), index =AllName, \n",
    "                                              columns =['RightArea', 'LeftArea', 'Right-Left', 'Right+Left', 'Assymmetery'])\n",
    "\n",
    "df.to_csv(AsymmetryResults + '/' + AsymmetryResultsName +  '.csv')  \n",
    "df"
   ]
  },
  {
   "cell_type": "code",
   "execution_count": null,
   "metadata": {},
   "outputs": [],
   "source": [
    "positivecount = np.sum(df['Assymmetery']>0)\n",
    "negativecount = np.sum(df['Assymmetery']<0)   \n",
    "print('Positive Count' , positivecount)\n",
    "print('Negative Count' , negativecount)"
   ]
  },
  {
   "cell_type": "code",
   "execution_count": null,
   "metadata": {},
   "outputs": [],
   "source": [
    "multiplotline(AllRightArea, AllLeftArea, AllRightMinusLeftArea, AllRightPlusLeftArea, 'Right Area', 'Left Area', 'Right-Left', 'Right+Left', targetdir = AsymmetryResults, File = 'Areas', plotTitle = 'Area')"
   ]
  },
  {
   "cell_type": "code",
   "execution_count": null,
   "metadata": {},
   "outputs": [],
   "source": [
    "plt.plot(AllAssymetery)\n",
    "plt.title(\"Asymmetry\")\n",
    "plt.ylabel(\"Asymmetry\")\n",
    "plt.xlabel(\"Filenumber\")\n",
    "plt.show()"
   ]
  }
 ],
 "metadata": {
  "kernelspec": {
   "display_name": "tensorflowEnv36",
   "language": "python",
   "name": "myenv"
  },
  "language_info": {
   "codemirror_mode": {
    "name": "ipython",
    "version": 3
   },
   "file_extension": ".py",
   "mimetype": "text/x-python",
   "name": "python",
   "nbconvert_exporter": "python",
   "pygments_lexer": "ipython3",
   "version": "3.6.9"
  }
 },
 "nbformat": 4,
 "nbformat_minor": 2
}
